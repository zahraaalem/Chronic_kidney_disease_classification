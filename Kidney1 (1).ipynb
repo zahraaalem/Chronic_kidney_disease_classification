{
 "cells": [
  {
   "cell_type": "raw",
   "id": "2a3f8892",
   "metadata": {},
   "source": [
    "import pandas as pd\n",
    "import numpy as np\n"
   ]
  },
  {
   "cell_type": "code",
   "execution_count": 2,
   "id": "2e09932e",
   "metadata": {},
   "outputs": [],
   "source": [
    "dataFrame = pd.read_csv('C:/Users/Pro/Desktop/kidney.csv')\n",
    "df = dataFrame.copy()"
   ]
  },
  {
   "cell_type": "code",
   "execution_count": 3,
   "id": "9eed0f88",
   "metadata": {},
   "outputs": [
    {
     "data": {
      "text/html": [
       "<div>\n",
       "<style scoped>\n",
       "    .dataframe tbody tr th:only-of-type {\n",
       "        vertical-align: middle;\n",
       "    }\n",
       "\n",
       "    .dataframe tbody tr th {\n",
       "        vertical-align: top;\n",
       "    }\n",
       "\n",
       "    .dataframe thead th {\n",
       "        text-align: right;\n",
       "    }\n",
       "</style>\n",
       "<table border=\"1\" class=\"dataframe\">\n",
       "  <thead>\n",
       "    <tr style=\"text-align: right;\">\n",
       "      <th></th>\n",
       "      <th>id</th>\n",
       "      <th>age</th>\n",
       "      <th>bp</th>\n",
       "      <th>sg</th>\n",
       "      <th>al</th>\n",
       "      <th>su</th>\n",
       "      <th>rbc</th>\n",
       "      <th>pc</th>\n",
       "      <th>pcc</th>\n",
       "      <th>ba</th>\n",
       "      <th>...</th>\n",
       "      <th>pcv</th>\n",
       "      <th>wc</th>\n",
       "      <th>rc</th>\n",
       "      <th>htn</th>\n",
       "      <th>dm</th>\n",
       "      <th>cad</th>\n",
       "      <th>appet</th>\n",
       "      <th>pe</th>\n",
       "      <th>ane</th>\n",
       "      <th>classification</th>\n",
       "    </tr>\n",
       "  </thead>\n",
       "  <tbody>\n",
       "    <tr>\n",
       "      <th>0</th>\n",
       "      <td>0</td>\n",
       "      <td>48.0</td>\n",
       "      <td>80.0</td>\n",
       "      <td>1.020</td>\n",
       "      <td>1.0</td>\n",
       "      <td>0.0</td>\n",
       "      <td>NaN</td>\n",
       "      <td>normal</td>\n",
       "      <td>notpresent</td>\n",
       "      <td>notpresent</td>\n",
       "      <td>...</td>\n",
       "      <td>44</td>\n",
       "      <td>7800</td>\n",
       "      <td>5.2</td>\n",
       "      <td>yes</td>\n",
       "      <td>yes</td>\n",
       "      <td>no</td>\n",
       "      <td>good</td>\n",
       "      <td>no</td>\n",
       "      <td>no</td>\n",
       "      <td>ckd</td>\n",
       "    </tr>\n",
       "    <tr>\n",
       "      <th>1</th>\n",
       "      <td>1</td>\n",
       "      <td>7.0</td>\n",
       "      <td>50.0</td>\n",
       "      <td>1.020</td>\n",
       "      <td>4.0</td>\n",
       "      <td>0.0</td>\n",
       "      <td>NaN</td>\n",
       "      <td>normal</td>\n",
       "      <td>notpresent</td>\n",
       "      <td>notpresent</td>\n",
       "      <td>...</td>\n",
       "      <td>38</td>\n",
       "      <td>6000</td>\n",
       "      <td>NaN</td>\n",
       "      <td>no</td>\n",
       "      <td>no</td>\n",
       "      <td>no</td>\n",
       "      <td>good</td>\n",
       "      <td>no</td>\n",
       "      <td>no</td>\n",
       "      <td>ckd</td>\n",
       "    </tr>\n",
       "    <tr>\n",
       "      <th>2</th>\n",
       "      <td>2</td>\n",
       "      <td>62.0</td>\n",
       "      <td>80.0</td>\n",
       "      <td>1.010</td>\n",
       "      <td>2.0</td>\n",
       "      <td>3.0</td>\n",
       "      <td>normal</td>\n",
       "      <td>normal</td>\n",
       "      <td>notpresent</td>\n",
       "      <td>notpresent</td>\n",
       "      <td>...</td>\n",
       "      <td>31</td>\n",
       "      <td>7500</td>\n",
       "      <td>NaN</td>\n",
       "      <td>no</td>\n",
       "      <td>yes</td>\n",
       "      <td>no</td>\n",
       "      <td>poor</td>\n",
       "      <td>no</td>\n",
       "      <td>yes</td>\n",
       "      <td>ckd</td>\n",
       "    </tr>\n",
       "    <tr>\n",
       "      <th>3</th>\n",
       "      <td>3</td>\n",
       "      <td>48.0</td>\n",
       "      <td>70.0</td>\n",
       "      <td>1.005</td>\n",
       "      <td>4.0</td>\n",
       "      <td>0.0</td>\n",
       "      <td>normal</td>\n",
       "      <td>abnormal</td>\n",
       "      <td>present</td>\n",
       "      <td>notpresent</td>\n",
       "      <td>...</td>\n",
       "      <td>32</td>\n",
       "      <td>6700</td>\n",
       "      <td>3.9</td>\n",
       "      <td>yes</td>\n",
       "      <td>no</td>\n",
       "      <td>no</td>\n",
       "      <td>poor</td>\n",
       "      <td>yes</td>\n",
       "      <td>yes</td>\n",
       "      <td>ckd</td>\n",
       "    </tr>\n",
       "    <tr>\n",
       "      <th>4</th>\n",
       "      <td>4</td>\n",
       "      <td>51.0</td>\n",
       "      <td>80.0</td>\n",
       "      <td>1.010</td>\n",
       "      <td>2.0</td>\n",
       "      <td>0.0</td>\n",
       "      <td>normal</td>\n",
       "      <td>normal</td>\n",
       "      <td>notpresent</td>\n",
       "      <td>notpresent</td>\n",
       "      <td>...</td>\n",
       "      <td>35</td>\n",
       "      <td>7300</td>\n",
       "      <td>4.6</td>\n",
       "      <td>no</td>\n",
       "      <td>no</td>\n",
       "      <td>no</td>\n",
       "      <td>good</td>\n",
       "      <td>no</td>\n",
       "      <td>no</td>\n",
       "      <td>ckd</td>\n",
       "    </tr>\n",
       "    <tr>\n",
       "      <th>...</th>\n",
       "      <td>...</td>\n",
       "      <td>...</td>\n",
       "      <td>...</td>\n",
       "      <td>...</td>\n",
       "      <td>...</td>\n",
       "      <td>...</td>\n",
       "      <td>...</td>\n",
       "      <td>...</td>\n",
       "      <td>...</td>\n",
       "      <td>...</td>\n",
       "      <td>...</td>\n",
       "      <td>...</td>\n",
       "      <td>...</td>\n",
       "      <td>...</td>\n",
       "      <td>...</td>\n",
       "      <td>...</td>\n",
       "      <td>...</td>\n",
       "      <td>...</td>\n",
       "      <td>...</td>\n",
       "      <td>...</td>\n",
       "      <td>...</td>\n",
       "    </tr>\n",
       "    <tr>\n",
       "      <th>395</th>\n",
       "      <td>395</td>\n",
       "      <td>55.0</td>\n",
       "      <td>80.0</td>\n",
       "      <td>1.020</td>\n",
       "      <td>0.0</td>\n",
       "      <td>0.0</td>\n",
       "      <td>normal</td>\n",
       "      <td>normal</td>\n",
       "      <td>notpresent</td>\n",
       "      <td>notpresent</td>\n",
       "      <td>...</td>\n",
       "      <td>47</td>\n",
       "      <td>6700</td>\n",
       "      <td>4.9</td>\n",
       "      <td>no</td>\n",
       "      <td>no</td>\n",
       "      <td>no</td>\n",
       "      <td>good</td>\n",
       "      <td>no</td>\n",
       "      <td>no</td>\n",
       "      <td>notckd</td>\n",
       "    </tr>\n",
       "    <tr>\n",
       "      <th>396</th>\n",
       "      <td>396</td>\n",
       "      <td>42.0</td>\n",
       "      <td>70.0</td>\n",
       "      <td>1.025</td>\n",
       "      <td>0.0</td>\n",
       "      <td>0.0</td>\n",
       "      <td>normal</td>\n",
       "      <td>normal</td>\n",
       "      <td>notpresent</td>\n",
       "      <td>notpresent</td>\n",
       "      <td>...</td>\n",
       "      <td>54</td>\n",
       "      <td>7800</td>\n",
       "      <td>6.2</td>\n",
       "      <td>no</td>\n",
       "      <td>no</td>\n",
       "      <td>no</td>\n",
       "      <td>good</td>\n",
       "      <td>no</td>\n",
       "      <td>no</td>\n",
       "      <td>notckd</td>\n",
       "    </tr>\n",
       "    <tr>\n",
       "      <th>397</th>\n",
       "      <td>397</td>\n",
       "      <td>12.0</td>\n",
       "      <td>80.0</td>\n",
       "      <td>1.020</td>\n",
       "      <td>0.0</td>\n",
       "      <td>0.0</td>\n",
       "      <td>normal</td>\n",
       "      <td>normal</td>\n",
       "      <td>notpresent</td>\n",
       "      <td>notpresent</td>\n",
       "      <td>...</td>\n",
       "      <td>49</td>\n",
       "      <td>6600</td>\n",
       "      <td>5.4</td>\n",
       "      <td>no</td>\n",
       "      <td>no</td>\n",
       "      <td>no</td>\n",
       "      <td>good</td>\n",
       "      <td>no</td>\n",
       "      <td>no</td>\n",
       "      <td>notckd</td>\n",
       "    </tr>\n",
       "    <tr>\n",
       "      <th>398</th>\n",
       "      <td>398</td>\n",
       "      <td>17.0</td>\n",
       "      <td>60.0</td>\n",
       "      <td>1.025</td>\n",
       "      <td>0.0</td>\n",
       "      <td>0.0</td>\n",
       "      <td>normal</td>\n",
       "      <td>normal</td>\n",
       "      <td>notpresent</td>\n",
       "      <td>notpresent</td>\n",
       "      <td>...</td>\n",
       "      <td>51</td>\n",
       "      <td>7200</td>\n",
       "      <td>5.9</td>\n",
       "      <td>no</td>\n",
       "      <td>no</td>\n",
       "      <td>no</td>\n",
       "      <td>good</td>\n",
       "      <td>no</td>\n",
       "      <td>no</td>\n",
       "      <td>notckd</td>\n",
       "    </tr>\n",
       "    <tr>\n",
       "      <th>399</th>\n",
       "      <td>399</td>\n",
       "      <td>58.0</td>\n",
       "      <td>80.0</td>\n",
       "      <td>1.025</td>\n",
       "      <td>0.0</td>\n",
       "      <td>0.0</td>\n",
       "      <td>normal</td>\n",
       "      <td>normal</td>\n",
       "      <td>notpresent</td>\n",
       "      <td>notpresent</td>\n",
       "      <td>...</td>\n",
       "      <td>53</td>\n",
       "      <td>6800</td>\n",
       "      <td>6.1</td>\n",
       "      <td>no</td>\n",
       "      <td>no</td>\n",
       "      <td>no</td>\n",
       "      <td>good</td>\n",
       "      <td>no</td>\n",
       "      <td>no</td>\n",
       "      <td>notckd</td>\n",
       "    </tr>\n",
       "  </tbody>\n",
       "</table>\n",
       "<p>400 rows × 26 columns</p>\n",
       "</div>"
      ],
      "text/plain": [
       "      id   age    bp     sg   al   su     rbc        pc         pcc  \\\n",
       "0      0  48.0  80.0  1.020  1.0  0.0     NaN    normal  notpresent   \n",
       "1      1   7.0  50.0  1.020  4.0  0.0     NaN    normal  notpresent   \n",
       "2      2  62.0  80.0  1.010  2.0  3.0  normal    normal  notpresent   \n",
       "3      3  48.0  70.0  1.005  4.0  0.0  normal  abnormal     present   \n",
       "4      4  51.0  80.0  1.010  2.0  0.0  normal    normal  notpresent   \n",
       "..   ...   ...   ...    ...  ...  ...     ...       ...         ...   \n",
       "395  395  55.0  80.0  1.020  0.0  0.0  normal    normal  notpresent   \n",
       "396  396  42.0  70.0  1.025  0.0  0.0  normal    normal  notpresent   \n",
       "397  397  12.0  80.0  1.020  0.0  0.0  normal    normal  notpresent   \n",
       "398  398  17.0  60.0  1.025  0.0  0.0  normal    normal  notpresent   \n",
       "399  399  58.0  80.0  1.025  0.0  0.0  normal    normal  notpresent   \n",
       "\n",
       "             ba  ...  pcv    wc   rc  htn   dm  cad appet   pe  ane  \\\n",
       "0    notpresent  ...   44  7800  5.2  yes  yes   no  good   no   no   \n",
       "1    notpresent  ...   38  6000  NaN   no   no   no  good   no   no   \n",
       "2    notpresent  ...   31  7500  NaN   no  yes   no  poor   no  yes   \n",
       "3    notpresent  ...   32  6700  3.9  yes   no   no  poor  yes  yes   \n",
       "4    notpresent  ...   35  7300  4.6   no   no   no  good   no   no   \n",
       "..          ...  ...  ...   ...  ...  ...  ...  ...   ...  ...  ...   \n",
       "395  notpresent  ...   47  6700  4.9   no   no   no  good   no   no   \n",
       "396  notpresent  ...   54  7800  6.2   no   no   no  good   no   no   \n",
       "397  notpresent  ...   49  6600  5.4   no   no   no  good   no   no   \n",
       "398  notpresent  ...   51  7200  5.9   no   no   no  good   no   no   \n",
       "399  notpresent  ...   53  6800  6.1   no   no   no  good   no   no   \n",
       "\n",
       "    classification  \n",
       "0              ckd  \n",
       "1              ckd  \n",
       "2              ckd  \n",
       "3              ckd  \n",
       "4              ckd  \n",
       "..             ...  \n",
       "395         notckd  \n",
       "396         notckd  \n",
       "397         notckd  \n",
       "398         notckd  \n",
       "399         notckd  \n",
       "\n",
       "[400 rows x 26 columns]"
      ]
     },
     "execution_count": 3,
     "metadata": {},
     "output_type": "execute_result"
    }
   ],
   "source": [
    "df"
   ]
  },
  {
   "cell_type": "code",
   "execution_count": 4,
   "id": "d44db170",
   "metadata": {},
   "outputs": [
    {
     "data": {
      "text/plain": [
       "0      1.020\n",
       "1      1.020\n",
       "2      1.010\n",
       "3      1.005\n",
       "4      1.010\n",
       "       ...  \n",
       "395    1.020\n",
       "396    1.025\n",
       "397    1.020\n",
       "398    1.025\n",
       "399    1.025\n",
       "Name: sg, Length: 400, dtype: float64"
      ]
     },
     "execution_count": 4,
     "metadata": {},
     "output_type": "execute_result"
    }
   ],
   "source": [
    "df['sg']"
   ]
  },
  {
   "cell_type": "code",
   "execution_count": 5,
   "id": "7ce1a377",
   "metadata": {},
   "outputs": [
    {
     "data": {
      "text/plain": [
       "id                False\n",
       "age                True\n",
       "bp                 True\n",
       "sg                 True\n",
       "al                 True\n",
       "su                 True\n",
       "rbc                True\n",
       "pc                 True\n",
       "pcc                True\n",
       "ba                 True\n",
       "bgr                True\n",
       "bu                 True\n",
       "sc                 True\n",
       "sod                True\n",
       "pot                True\n",
       "hemo               True\n",
       "pcv                True\n",
       "wc                 True\n",
       "rc                 True\n",
       "htn                True\n",
       "dm                 True\n",
       "cad                True\n",
       "appet              True\n",
       "pe                 True\n",
       "ane                True\n",
       "classification    False\n",
       "dtype: bool"
      ]
     },
     "execution_count": 5,
     "metadata": {},
     "output_type": "execute_result"
    }
   ],
   "source": [
    "df.isnull().any()"
   ]
  },
  {
   "cell_type": "code",
   "execution_count": 6,
   "id": "702c2023",
   "metadata": {},
   "outputs": [
    {
     "data": {
      "text/html": [
       "<div>\n",
       "<style scoped>\n",
       "    .dataframe tbody tr th:only-of-type {\n",
       "        vertical-align: middle;\n",
       "    }\n",
       "\n",
       "    .dataframe tbody tr th {\n",
       "        vertical-align: top;\n",
       "    }\n",
       "\n",
       "    .dataframe thead th {\n",
       "        text-align: right;\n",
       "    }\n",
       "</style>\n",
       "<table border=\"1\" class=\"dataframe\">\n",
       "  <thead>\n",
       "    <tr style=\"text-align: right;\">\n",
       "      <th></th>\n",
       "      <th>id</th>\n",
       "      <th>age</th>\n",
       "      <th>bp</th>\n",
       "      <th>sg</th>\n",
       "      <th>al</th>\n",
       "      <th>su</th>\n",
       "      <th>bgr</th>\n",
       "      <th>bu</th>\n",
       "      <th>sc</th>\n",
       "      <th>sod</th>\n",
       "      <th>pot</th>\n",
       "      <th>hemo</th>\n",
       "    </tr>\n",
       "  </thead>\n",
       "  <tbody>\n",
       "    <tr>\n",
       "      <th>count</th>\n",
       "      <td>400.000000</td>\n",
       "      <td>391.000000</td>\n",
       "      <td>388.000000</td>\n",
       "      <td>353.000000</td>\n",
       "      <td>354.000000</td>\n",
       "      <td>351.000000</td>\n",
       "      <td>356.000000</td>\n",
       "      <td>381.000000</td>\n",
       "      <td>383.000000</td>\n",
       "      <td>313.000000</td>\n",
       "      <td>312.000000</td>\n",
       "      <td>348.000000</td>\n",
       "    </tr>\n",
       "    <tr>\n",
       "      <th>mean</th>\n",
       "      <td>199.500000</td>\n",
       "      <td>51.483376</td>\n",
       "      <td>76.469072</td>\n",
       "      <td>1.017408</td>\n",
       "      <td>1.016949</td>\n",
       "      <td>0.450142</td>\n",
       "      <td>148.036517</td>\n",
       "      <td>57.425722</td>\n",
       "      <td>3.072454</td>\n",
       "      <td>137.528754</td>\n",
       "      <td>4.627244</td>\n",
       "      <td>12.526437</td>\n",
       "    </tr>\n",
       "    <tr>\n",
       "      <th>std</th>\n",
       "      <td>115.614301</td>\n",
       "      <td>17.169714</td>\n",
       "      <td>13.683637</td>\n",
       "      <td>0.005717</td>\n",
       "      <td>1.352679</td>\n",
       "      <td>1.099191</td>\n",
       "      <td>79.281714</td>\n",
       "      <td>50.503006</td>\n",
       "      <td>5.741126</td>\n",
       "      <td>10.408752</td>\n",
       "      <td>3.193904</td>\n",
       "      <td>2.912587</td>\n",
       "    </tr>\n",
       "    <tr>\n",
       "      <th>min</th>\n",
       "      <td>0.000000</td>\n",
       "      <td>2.000000</td>\n",
       "      <td>50.000000</td>\n",
       "      <td>1.005000</td>\n",
       "      <td>0.000000</td>\n",
       "      <td>0.000000</td>\n",
       "      <td>22.000000</td>\n",
       "      <td>1.500000</td>\n",
       "      <td>0.400000</td>\n",
       "      <td>4.500000</td>\n",
       "      <td>2.500000</td>\n",
       "      <td>3.100000</td>\n",
       "    </tr>\n",
       "    <tr>\n",
       "      <th>25%</th>\n",
       "      <td>99.750000</td>\n",
       "      <td>42.000000</td>\n",
       "      <td>70.000000</td>\n",
       "      <td>1.010000</td>\n",
       "      <td>0.000000</td>\n",
       "      <td>0.000000</td>\n",
       "      <td>99.000000</td>\n",
       "      <td>27.000000</td>\n",
       "      <td>0.900000</td>\n",
       "      <td>135.000000</td>\n",
       "      <td>3.800000</td>\n",
       "      <td>10.300000</td>\n",
       "    </tr>\n",
       "    <tr>\n",
       "      <th>50%</th>\n",
       "      <td>199.500000</td>\n",
       "      <td>55.000000</td>\n",
       "      <td>80.000000</td>\n",
       "      <td>1.020000</td>\n",
       "      <td>0.000000</td>\n",
       "      <td>0.000000</td>\n",
       "      <td>121.000000</td>\n",
       "      <td>42.000000</td>\n",
       "      <td>1.300000</td>\n",
       "      <td>138.000000</td>\n",
       "      <td>4.400000</td>\n",
       "      <td>12.650000</td>\n",
       "    </tr>\n",
       "    <tr>\n",
       "      <th>75%</th>\n",
       "      <td>299.250000</td>\n",
       "      <td>64.500000</td>\n",
       "      <td>80.000000</td>\n",
       "      <td>1.020000</td>\n",
       "      <td>2.000000</td>\n",
       "      <td>0.000000</td>\n",
       "      <td>163.000000</td>\n",
       "      <td>66.000000</td>\n",
       "      <td>2.800000</td>\n",
       "      <td>142.000000</td>\n",
       "      <td>4.900000</td>\n",
       "      <td>15.000000</td>\n",
       "    </tr>\n",
       "    <tr>\n",
       "      <th>max</th>\n",
       "      <td>399.000000</td>\n",
       "      <td>90.000000</td>\n",
       "      <td>180.000000</td>\n",
       "      <td>1.025000</td>\n",
       "      <td>5.000000</td>\n",
       "      <td>5.000000</td>\n",
       "      <td>490.000000</td>\n",
       "      <td>391.000000</td>\n",
       "      <td>76.000000</td>\n",
       "      <td>163.000000</td>\n",
       "      <td>47.000000</td>\n",
       "      <td>17.800000</td>\n",
       "    </tr>\n",
       "  </tbody>\n",
       "</table>\n",
       "</div>"
      ],
      "text/plain": [
       "               id         age          bp          sg          al          su  \\\n",
       "count  400.000000  391.000000  388.000000  353.000000  354.000000  351.000000   \n",
       "mean   199.500000   51.483376   76.469072    1.017408    1.016949    0.450142   \n",
       "std    115.614301   17.169714   13.683637    0.005717    1.352679    1.099191   \n",
       "min      0.000000    2.000000   50.000000    1.005000    0.000000    0.000000   \n",
       "25%     99.750000   42.000000   70.000000    1.010000    0.000000    0.000000   \n",
       "50%    199.500000   55.000000   80.000000    1.020000    0.000000    0.000000   \n",
       "75%    299.250000   64.500000   80.000000    1.020000    2.000000    0.000000   \n",
       "max    399.000000   90.000000  180.000000    1.025000    5.000000    5.000000   \n",
       "\n",
       "              bgr          bu          sc         sod         pot        hemo  \n",
       "count  356.000000  381.000000  383.000000  313.000000  312.000000  348.000000  \n",
       "mean   148.036517   57.425722    3.072454  137.528754    4.627244   12.526437  \n",
       "std     79.281714   50.503006    5.741126   10.408752    3.193904    2.912587  \n",
       "min     22.000000    1.500000    0.400000    4.500000    2.500000    3.100000  \n",
       "25%     99.000000   27.000000    0.900000  135.000000    3.800000   10.300000  \n",
       "50%    121.000000   42.000000    1.300000  138.000000    4.400000   12.650000  \n",
       "75%    163.000000   66.000000    2.800000  142.000000    4.900000   15.000000  \n",
       "max    490.000000  391.000000   76.000000  163.000000   47.000000   17.800000  "
      ]
     },
     "execution_count": 6,
     "metadata": {},
     "output_type": "execute_result"
    }
   ],
   "source": [
    "df.describe()"
   ]
  },
  {
   "cell_type": "code",
   "execution_count": 7,
   "id": "33108d81",
   "metadata": {},
   "outputs": [
    {
     "data": {
      "text/plain": [
       "id                  int64\n",
       "age               float64\n",
       "bp                float64\n",
       "sg                float64\n",
       "al                float64\n",
       "su                float64\n",
       "rbc                object\n",
       "pc                 object\n",
       "pcc                object\n",
       "ba                 object\n",
       "bgr               float64\n",
       "bu                float64\n",
       "sc                float64\n",
       "sod               float64\n",
       "pot               float64\n",
       "hemo              float64\n",
       "pcv                object\n",
       "wc                 object\n",
       "rc                 object\n",
       "htn                object\n",
       "dm                 object\n",
       "cad                object\n",
       "appet              object\n",
       "pe                 object\n",
       "ane                object\n",
       "classification     object\n",
       "dtype: object"
      ]
     },
     "execution_count": 7,
     "metadata": {},
     "output_type": "execute_result"
    }
   ],
   "source": [
    "df.dtypes"
   ]
  },
  {
   "cell_type": "code",
   "execution_count": 8,
   "id": "fd06b8fd",
   "metadata": {},
   "outputs": [
    {
     "data": {
      "text/plain": [
       "array([48.        ,  7.        , 62.        , 51.        , 60.        ,\n",
       "       68.        , 24.        , 52.        , 53.        , 50.        ,\n",
       "       63.        , 40.        , 47.        , 61.        , 21.        ,\n",
       "       42.        , 75.        , 69.        , 51.48337596, 73.        ,\n",
       "       70.        , 65.        , 76.        , 72.        , 82.        ,\n",
       "       46.        , 45.        , 35.        , 54.        , 11.        ,\n",
       "       59.        , 67.        , 15.        , 55.        , 44.        ,\n",
       "       26.        , 64.        , 56.        ,  5.        , 74.        ,\n",
       "       38.        , 58.        , 71.        , 34.        , 17.        ,\n",
       "       12.        , 43.        , 41.        , 57.        ,  8.        ,\n",
       "       39.        , 66.        , 81.        , 14.        , 27.        ,\n",
       "       83.        , 30.        ,  4.        ,  3.        ,  6.        ,\n",
       "       32.        , 80.        , 49.        , 90.        , 78.        ,\n",
       "       19.        ,  2.        , 33.        , 36.        , 37.        ,\n",
       "       23.        , 25.        , 20.        , 29.        , 28.        ,\n",
       "       22.        , 79.        ])"
      ]
     },
     "execution_count": 8,
     "metadata": {},
     "output_type": "execute_result"
    }
   ],
   "source": [
    "#number of null values in age \n",
    "df['age'].isna().sum()\n",
    "#continuous values so we replaced it with mean \n",
    "age_average_value = df['age'].mean()\n",
    "df['age'].replace(np.nan, age_average_value, inplace = True)\n",
    "df['age'].unique()"
   ]
  },
  {
   "cell_type": "code",
   "execution_count": 9,
   "id": "f45e842e",
   "metadata": {},
   "outputs": [
    {
     "data": {
      "text/plain": [
       "array([ 80.        ,  50.        ,  70.        ,  90.        ,\n",
       "        76.46907216, 100.        ,  60.        , 110.        ,\n",
       "       140.        , 180.        , 120.        ])"
      ]
     },
     "execution_count": 9,
     "metadata": {},
     "output_type": "execute_result"
    }
   ],
   "source": [
    "df['bp'].isna().sum()\n",
    "#continuous values so we replaced it with mean \n",
    "bp_average_value = df['bp'].mean()\n",
    "df['bp'].replace(np.nan, bp_average_value, inplace = True)\n",
    "\n",
    "df['bp'].unique()"
   ]
  },
  {
   "cell_type": "code",
   "execution_count": 10,
   "id": "d4d6436a",
   "metadata": {},
   "outputs": [
    {
     "data": {
      "text/plain": [
       "array([1.02 , 1.01 , 1.005, 1.015, 1.025])"
      ]
     },
     "execution_count": 10,
     "metadata": {},
     "output_type": "execute_result"
    }
   ],
   "source": [
    "df['sg'].isna().sum()\n",
    "\n",
    "#discrete values so we replaced with most frequent\n",
    "sg_frequent_value = df['sg'].value_counts().idxmax()\n",
    "df['sg'].replace(np.nan, sg_frequent_value, inplace = True )\n",
    "\n",
    "df['sg'].unique()"
   ]
  },
  {
   "cell_type": "code",
   "execution_count": 11,
   "id": "2ceab686",
   "metadata": {},
   "outputs": [
    {
     "data": {
      "text/plain": [
       "array([1., 4., 2., 3., 0., 5.])"
      ]
     },
     "execution_count": 11,
     "metadata": {},
     "output_type": "execute_result"
    }
   ],
   "source": [
    "df['al'].isna().sum()\n",
    "#discrete values so we replaced with most frequent\n",
    "al_frequent_value = df['al'].value_counts().idxmax()\n",
    "df['al'].replace(np.nan, al_frequent_value, inplace = True)\n",
    "\n",
    "df['al'].unique()"
   ]
  },
  {
   "cell_type": "code",
   "execution_count": 12,
   "id": "601a202d",
   "metadata": {},
   "outputs": [
    {
     "data": {
      "text/plain": [
       "array([0., 3., 4., 1., 2., 5.])"
      ]
     },
     "execution_count": 12,
     "metadata": {},
     "output_type": "execute_result"
    }
   ],
   "source": [
    "df['su'].isna().sum()\n",
    "df['su'].value_counts()\n",
    "#discrete values so we replaced with most frequent\n",
    "su_frequent_value = df['su'].value_counts().idxmax()\n",
    "df['su'].replace(np.nan, su_frequent_value, inplace = True)\n",
    "df['su'].unique()"
   ]
  },
  {
   "cell_type": "code",
   "execution_count": 13,
   "id": "b0a2b658",
   "metadata": {},
   "outputs": [
    {
     "data": {
      "text/plain": [
       "array([1, 0], dtype=int64)"
      ]
     },
     "execution_count": 13,
     "metadata": {},
     "output_type": "execute_result"
    }
   ],
   "source": [
    "df['rbc'].isna().sum()\n",
    "#discrete values so we replaced with most frequent\n",
    "rbc_frequent_value = df['rbc'].value_counts().idxmax()\n",
    "df['rbc'].replace(np.nan, rbc_frequent_value, inplace = True)\n",
    "#encoding and processing the values\n",
    "df['rbc'].replace('normal', 1, inplace = True)\n",
    "df['rbc'].replace('abnormal', 0, inplace = True)\n",
    "df['rbc'].unique()"
   ]
  },
  {
   "cell_type": "code",
   "execution_count": 14,
   "id": "6927ba77",
   "metadata": {},
   "outputs": [
    {
     "data": {
      "text/plain": [
       "array([1, 0], dtype=int64)"
      ]
     },
     "execution_count": 14,
     "metadata": {},
     "output_type": "execute_result"
    }
   ],
   "source": [
    "df['pc'].isna().sum()\n",
    "#discrete values so we replaced with most frequent\n",
    "pc_frequent_value = df['pc'].value_counts().idxmax()\n",
    "df['pc'].replace(np.nan, pc_frequent_value, inplace = True)\n",
    "#encoding and processing the values\n",
    "df['pc'].replace('normal', 1, inplace = True)\n",
    "df['pc'].replace('abnormal', 0, inplace = True)\n",
    "df['pc'].unique()"
   ]
  },
  {
   "cell_type": "code",
   "execution_count": 15,
   "id": "adf443ec",
   "metadata": {},
   "outputs": [
    {
     "data": {
      "text/plain": [
       "array([0, 1], dtype=int64)"
      ]
     },
     "execution_count": 15,
     "metadata": {},
     "output_type": "execute_result"
    }
   ],
   "source": [
    "df['pcc'].isna().sum()\n",
    "#discrete values so we replaced with most frequent\n",
    "pcc_frequent_value = df['pcc'].value_counts().idxmax()\n",
    "df['pcc'].replace(np.nan, pcc_frequent_value, inplace = True )\n",
    "#encoding and processing the values\n",
    "df['pcc'].replace('no', 'notpresent', inplace = True)\n",
    "df['pcc'].replace('notpresent', 0, inplace = True)\n",
    "df['pcc'].replace('present', 1, inplace = True)\n",
    "df['pcc'].unique()"
   ]
  },
  {
   "cell_type": "code",
   "execution_count": 16,
   "id": "b149b077",
   "metadata": {},
   "outputs": [
    {
     "data": {
      "text/plain": [
       "array([0, 1], dtype=int64)"
      ]
     },
     "execution_count": 16,
     "metadata": {},
     "output_type": "execute_result"
    }
   ],
   "source": [
    "df['ba'].isna().sum()\n",
    "#discrete values so we replaced with most frequent\n",
    "ba_frequent_value = df['ba'].value_counts().idxmax()\n",
    "df['ba'].replace(np.nan, ba_frequent_value, inplace = True )\n",
    "#encoding and processing the values\n",
    "df['ba'].replace('notpresent', 0, inplace = True)\n",
    "df['ba'].replace('present', 1, inplace = True)\n",
    "df['ba'].unique()"
   ]
  },
  {
   "cell_type": "code",
   "execution_count": 63,
   "id": "e79f4998",
   "metadata": {},
   "outputs": [
    {
     "data": {
      "text/plain": [
       "array([121.        , 148.03651685, 423.        , 117.        ,\n",
       "       106.        ,  74.        , 100.        , 410.        ,\n",
       "       138.        ,  70.        , 490.        , 380.        ,\n",
       "       208.        ,  98.        , 157.        ,  76.        ,\n",
       "        99.        , 114.        , 263.        , 173.        ,\n",
       "        95.        , 108.        , 156.        , 264.        ,\n",
       "       123.        ,  93.        , 107.        , 159.        ,\n",
       "       140.        , 171.        , 270.        ,  92.        ,\n",
       "       137.        , 204.        ,  79.        , 207.        ,\n",
       "       124.        , 144.        ,  91.        , 162.        ,\n",
       "       246.        , 253.        , 141.        , 182.        ,\n",
       "        86.        , 150.        , 146.        , 425.        ,\n",
       "       112.        , 250.        , 360.        , 163.        ,\n",
       "       129.        , 133.        , 102.        , 158.        ,\n",
       "       165.        , 132.        , 104.        , 127.        ,\n",
       "       415.        , 169.        , 251.        , 109.        ,\n",
       "       280.        , 210.        , 219.        , 295.        ,\n",
       "        94.        , 172.        , 101.        , 298.        ,\n",
       "       153.        ,  88.        , 226.        , 143.        ,\n",
       "       115.        ,  89.        , 297.        , 233.        ,\n",
       "       294.        , 323.        , 125.        ,  90.        ,\n",
       "       308.        , 118.        , 224.        , 128.        ,\n",
       "       122.        , 214.        , 213.        , 268.        ,\n",
       "       256.        ,  84.        , 105.        , 288.        ,\n",
       "       139.        ,  78.        , 273.        , 242.        ,\n",
       "       424.        , 303.        , 148.        , 160.        ,\n",
       "       192.        , 307.        , 220.        , 447.        ,\n",
       "       309.        ,  22.        , 111.        , 261.        ,\n",
       "       215.        , 234.        , 131.        , 352.        ,\n",
       "        80.        , 239.        , 110.        , 130.        ,\n",
       "       184.        , 252.        , 113.        , 230.        ,\n",
       "       341.        , 255.        , 103.        , 238.        ,\n",
       "       248.        , 120.        , 241.        , 269.        ,\n",
       "       201.        , 203.        , 463.        , 176.        ,\n",
       "        82.        , 119.        ,  97.        ,  96.        ,\n",
       "        81.        , 116.        , 134.        ,  85.        ,\n",
       "        83.        ,  87.        ,  75.        ])"
      ]
     },
     "execution_count": 63,
     "metadata": {},
     "output_type": "execute_result"
    }
   ],
   "source": [
    "df['bgr'].isna().sum()\n",
    "#continuous values so we replaced with mean \n",
    "bgr_average_value = df['bgr'].mean()\n",
    "df['bgr'].replace(np.nan, bgr_average_value, inplace = True )\n",
    "\n",
    "df['bgr'].unique()\n"
   ]
  },
  {
   "cell_type": "code",
   "execution_count": 66,
   "id": "7f3c0fa6",
   "metadata": {},
   "outputs": [
    {
     "data": {
      "text/plain": [
       "array([ 36.        ,  18.        ,  53.        ,  56.        ,\n",
       "        26.        ,  25.        ,  54.        ,  31.        ,\n",
       "        60.        , 107.        ,  55.        ,  72.        ,\n",
       "        86.        ,  90.        , 162.        ,  46.        ,\n",
       "        87.        ,  27.        , 148.        , 180.        ,\n",
       "       163.        ,  57.42572178,  50.        ,  75.        ,\n",
       "        45.        ,  28.        , 155.        ,  33.        ,\n",
       "        39.        , 153.        ,  29.        ,  65.        ,\n",
       "       103.        ,  70.        ,  80.        ,  20.        ,\n",
       "       202.        ,  77.        ,  89.        ,  24.        ,\n",
       "        17.        ,  32.        , 114.        ,  66.        ,\n",
       "        38.        , 164.        , 142.        ,  96.        ,\n",
       "       391.        ,  15.        , 111.        ,  73.        ,\n",
       "        19.        ,  92.        ,  35.        ,  16.        ,\n",
       "       139.        ,  48.        ,  85.        ,  98.        ,\n",
       "       186.        ,  37.        ,  47.        ,  52.        ,\n",
       "        82.        ,  51.        , 106.        ,  22.        ,\n",
       "       217.        ,  88.        , 118.        ,  50.1       ,\n",
       "        71.        ,  34.        ,  40.        ,  21.        ,\n",
       "       219.        ,  30.        , 125.        , 166.        ,\n",
       "        49.        , 208.        , 176.        ,  68.        ,\n",
       "       145.        , 165.        , 322.        ,  23.        ,\n",
       "       235.        , 132.        ,  76.        ,  42.        ,\n",
       "        44.        ,  41.        , 113.        ,   1.5       ,\n",
       "       146.        ,  58.        , 133.        , 137.        ,\n",
       "        67.        , 115.        , 223.        ,  98.6       ,\n",
       "       158.        ,  94.        ,  74.        , 150.        ,\n",
       "        61.        ,  57.        ,  95.        , 191.        ,\n",
       "        93.        , 241.        ,  64.        ,  79.        ,\n",
       "       215.        , 309.        ,  10.        ])"
      ]
     },
     "execution_count": 66,
     "metadata": {},
     "output_type": "execute_result"
    }
   ],
   "source": [
    "df['bu'].isna().sum()\n",
    "#continuous values so we replaced it with mean \n",
    "bu_average_value =  df['bu'].mean()\n",
    "df['bu'].replace(np.nan, bu_average_value, inplace = True )\n",
    "\n",
    "df['bu'].unique()"
   ]
  },
  {
   "cell_type": "code",
   "execution_count": 70,
   "id": "88de8a89",
   "metadata": {},
   "outputs": [
    {
     "data": {
      "text/plain": [
       "array([ 1.2       ,  0.8       ,  1.8       ,  3.8       ,  1.4       ,\n",
       "        1.1       , 24.        ,  1.9       ,  7.2       ,  4.        ,\n",
       "        2.7       ,  2.1       ,  4.6       ,  4.1       ,  9.6       ,\n",
       "        2.2       ,  5.2       ,  1.3       ,  1.6       ,  3.9       ,\n",
       "       76.        ,  7.7       ,  3.07245431,  2.4       ,  7.3       ,\n",
       "        1.5       ,  2.5       ,  2.        ,  3.4       ,  0.7       ,\n",
       "        1.        , 10.8       ,  6.3       ,  5.9       ,  0.9       ,\n",
       "        3.        ,  3.25      ,  9.7       ,  6.4       ,  3.2       ,\n",
       "       32.        ,  0.6       ,  6.1       ,  3.3       ,  6.7       ,\n",
       "        8.5       ,  2.8       , 15.        ,  2.9       ,  1.7       ,\n",
       "        3.6       ,  5.6       ,  6.5       ,  4.4       , 10.2       ,\n",
       "       11.5       ,  0.5       , 12.2       ,  5.3       ,  9.2       ,\n",
       "       13.8       , 16.9       ,  6.        ,  7.1       , 18.        ,\n",
       "        2.3       , 13.        , 48.1       , 14.2       , 16.4       ,\n",
       "        2.6       ,  7.5       ,  4.3       , 18.1       , 11.8       ,\n",
       "        9.3       ,  6.8       , 13.5       , 12.8       , 11.9       ,\n",
       "       12.        , 13.4       , 15.2       , 13.3       ,  0.4       ])"
      ]
     },
     "execution_count": 70,
     "metadata": {},
     "output_type": "execute_result"
    }
   ],
   "source": [
    "df['sc'].isna().sum()\n",
    "#continuous values so we replaced it with mean \n",
    "sc_average_value =  df['sc'].mean()\n",
    "df['sc'].replace(np.nan, sc_average_value, inplace = True )\n",
    "\n",
    "df['sc'].unique()\n"
   ]
  },
  {
   "cell_type": "code",
   "execution_count": 72,
   "id": "f9b32c94",
   "metadata": {},
   "outputs": [
    {
     "data": {
      "text/plain": [
       "163.0"
      ]
     },
     "execution_count": 72,
     "metadata": {},
     "output_type": "execute_result"
    }
   ],
   "source": [
    "df['sod'].isna().sum()\n",
    "#continuous values so we replaced it with mean \n",
    "sod_average_value =  df['sod'].mean()\n",
    "df['sod'].replace(np.nan, sod_average_value, inplace = True )\n",
    "\n",
    "df['sod'].unique()\n"
   ]
  },
  {
   "cell_type": "code",
   "execution_count": 75,
   "id": "0cd5aabd",
   "metadata": {},
   "outputs": [
    {
     "data": {
      "text/plain": [
       "array([ 4.62724359,  2.5       ,  3.2       ,  4.        ,  3.7       ,\n",
       "        4.2       ,  5.8       ,  3.4       ,  6.4       ,  4.9       ,\n",
       "        4.1       ,  4.3       ,  5.2       ,  3.8       ,  4.6       ,\n",
       "        3.9       ,  4.7       ,  5.9       ,  4.8       ,  4.4       ,\n",
       "        6.6       , 39.        ,  5.5       ,  5.        ,  3.5       ,\n",
       "        3.6       ,  7.6       ,  2.9       ,  4.5       ,  5.7       ,\n",
       "        5.4       ,  5.3       , 47.        ,  6.3       ,  5.1       ,\n",
       "        5.6       ,  3.        ,  2.8       ,  2.7       ,  6.5       ,\n",
       "        3.3       ])"
      ]
     },
     "execution_count": 75,
     "metadata": {},
     "output_type": "execute_result"
    }
   ],
   "source": [
    "df['pot'].isna().sum()\n",
    "#continuous values so we replaced it with mean \n",
    "pot_average_value =  df['pot'].mean()\n",
    "df['pot'].replace(np.nan, pot_average_value, inplace = True )\n",
    "\n",
    "df['pot'].unique()\n"
   ]
  },
  {
   "cell_type": "code",
   "execution_count": 78,
   "id": "f257d605",
   "metadata": {},
   "outputs": [
    {
     "data": {
      "text/plain": [
       "array([15.4       , 11.3       ,  9.6       , 11.2       , 11.6       ,\n",
       "       12.2       , 12.4       , 10.8       ,  9.5       ,  9.4       ,\n",
       "        9.7       ,  9.8       ,  5.6       ,  7.6       , 12.6       ,\n",
       "       12.1       , 12.7       , 10.3       ,  7.7       , 10.9       ,\n",
       "       12.52643678, 11.1       ,  9.9       , 12.5       , 12.9       ,\n",
       "       10.1       , 12.        , 13.        ,  7.9       ,  9.3       ,\n",
       "       15.        , 10.        ,  8.6       , 13.6       , 10.2       ,\n",
       "       10.5       ,  6.6       , 11.        ,  7.5       , 15.6       ,\n",
       "       15.2       ,  4.8       ,  9.1       ,  8.1       , 11.9       ,\n",
       "       13.5       ,  8.3       ,  7.1       , 16.1       , 10.4       ,\n",
       "        9.2       ,  6.2       , 13.9       , 14.1       ,  6.        ,\n",
       "       11.8       , 11.7       , 11.4       , 14.        ,  8.2       ,\n",
       "       13.2       ,  6.1       ,  8.        , 12.3       ,  8.4       ,\n",
       "       14.3       ,  9.        ,  8.7       , 10.6       , 13.1       ,\n",
       "       10.7       ,  5.5       ,  5.8       ,  6.8       ,  8.8       ,\n",
       "        8.5       , 13.8       , 11.5       ,  7.3       , 13.7       ,\n",
       "       12.8       , 13.4       ,  6.3       ,  3.1       , 17.        ,\n",
       "       15.9       , 14.5       , 15.5       , 16.2       , 14.4       ,\n",
       "       14.2       , 16.3       , 14.8       , 16.5       , 15.7       ,\n",
       "       13.3       , 14.6       , 16.4       , 16.9       , 16.        ,\n",
       "       14.7       , 16.6       , 14.9       , 16.7       , 16.8       ,\n",
       "       15.8       , 15.1       , 17.1       , 17.2       , 15.3       ,\n",
       "       17.3       , 17.4       , 17.7       , 17.8       , 17.5       ,\n",
       "       17.6       ])"
      ]
     },
     "execution_count": 78,
     "metadata": {},
     "output_type": "execute_result"
    }
   ],
   "source": [
    "df['hemo'].isna().sum()\n",
    "#continuous values so we replaced it with mean \n",
    "hemo_average_value =  df['hemo'].mean()\n",
    "df['hemo'].replace(np.nan, hemo_average_value, inplace = True )\n",
    "\n",
    "df['hemo'].unique()\n"
   ]
  },
  {
   "cell_type": "code",
   "execution_count": 81,
   "id": "d992760c",
   "metadata": {},
   "outputs": [
    {
     "data": {
      "text/plain": [
       "array([44.        , 38.        , 31.        , 32.        , 35.        ,\n",
       "       39.        , 36.        , 33.        , 29.        , 28.        ,\n",
       "       38.88449848, 16.        , 24.        , 37.        , 30.        ,\n",
       "       34.        , 40.        , 45.        , 27.        , 48.        ,\n",
       "       52.        , 14.        , 22.        , 18.        , 42.        ,\n",
       "       17.        , 46.        , 23.        , 19.        , 25.        ,\n",
       "       41.        , 26.        , 15.        , 21.        , 43.        ,\n",
       "       20.        , 47.        ,  9.        , 49.        , 50.        ,\n",
       "       53.        , 51.        , 54.        ])"
      ]
     },
     "execution_count": 81,
     "metadata": {},
     "output_type": "execute_result"
    }
   ],
   "source": [
    "df['pcv'].isna().sum()\n",
    "#cleaning the noise in the data\n",
    "df['pcv'].replace('\\t?', np.nan, inplace = True )\n",
    "df['pcv'].replace('\\t43', 43, inplace = True )\n",
    "df['pcv'] = df['pcv'].astype('float')\n",
    "#continuous values so we replaced it with mean \n",
    "pcv_average_value =  df['pcv'].mean()\n",
    "df['pcv'].replace(np.nan, pcv_average_value, inplace = True )\n",
    "\n",
    "df['pcv'].unique()\n"
   ]
  },
  {
   "cell_type": "code",
   "execution_count": 84,
   "id": "c9b82b52",
   "metadata": {},
   "outputs": [
    {
     "data": {
      "text/plain": [
       "array([ 7800.        ,  6000.        ,  7500.        ,  6700.        ,\n",
       "        7300.        ,  8406.12244898,  6900.        ,  9600.        ,\n",
       "       12100.        ,  4500.        , 12200.        , 11000.        ,\n",
       "        3800.        , 11400.        ,  5300.        ,  9200.        ,\n",
       "        6200.        ,  8300.        ,  8400.        , 10300.        ,\n",
       "        9800.        ,  9100.        ,  7900.        ,  6400.        ,\n",
       "        8600.        , 18900.        , 21600.        ,  4300.        ,\n",
       "        8500.        , 11300.        ,  7200.        ,  7700.        ,\n",
       "       14600.        ,  6300.        ,  7100.        , 11800.        ,\n",
       "        9400.        ,  5500.        ,  5800.        , 13200.        ,\n",
       "       12500.        ,  5600.        ,  7000.        , 11900.        ,\n",
       "       10400.        , 10700.        , 12700.        ,  6800.        ,\n",
       "        6500.        , 13600.        , 10200.        ,  9000.        ,\n",
       "       14900.        ,  8200.        , 15200.        ,  5000.        ,\n",
       "       16300.        , 12400.        , 10500.        ,  4200.        ,\n",
       "        4700.        , 10900.        ,  8100.        ,  9500.        ,\n",
       "        2200.        , 12800.        , 11200.        , 19100.        ,\n",
       "       12300.        , 16700.        ,  2600.        , 26400.        ,\n",
       "        8800.        ,  7400.        ,  4900.        ,  8000.        ,\n",
       "       12000.        , 15700.        ,  4100.        ,  5700.        ,\n",
       "       11500.        ,  5400.        , 10800.        ,  9900.        ,\n",
       "        5200.        ,  5900.        ,  9300.        ,  9700.        ,\n",
       "        5100.        ,  6600.        ])"
      ]
     },
     "execution_count": 84,
     "metadata": {},
     "output_type": "execute_result"
    }
   ],
   "source": [
    "df['wc'].isna().sum()\n",
    "#cleaning the noise in the data\n",
    "df['wc'].replace('\\t6200', 6200, inplace = True )\n",
    "df['wc'].replace('\\t6200', 6200, inplace = True )\n",
    "df['wc'].replace('\\t?', np.nan, inplace = True )\n",
    "df['wc'] = df['wc'].astype('float')\n",
    "#continuous values so we replaced it with mean \n",
    "wc_average_value =  df['wc'].mean()\n",
    "df['wc'].replace(np.nan, wc_average_value, inplace = True )\n",
    "\n",
    "df['wc'].unique()\n"
   ]
  },
  {
   "cell_type": "code",
   "execution_count": 87,
   "id": "775d010d",
   "metadata": {},
   "outputs": [
    {
     "data": {
      "text/plain": [
       "array([5.2       , 4.70743494, 3.9       , 4.6       , 4.4       ,\n",
       "       5.        , 4.        , 3.7       , 3.8       , 3.4       ,\n",
       "       2.6       , 2.8       , 4.3       , 3.2       , 3.6       ,\n",
       "       4.1       , 4.9       , 2.5       , 4.2       , 4.5       ,\n",
       "       3.1       , 4.7       , 3.5       , 6.        , 2.1       ,\n",
       "       5.6       , 2.3       , 2.9       , 2.7       , 8.        ,\n",
       "       3.3       , 3.        , 2.4       , 4.8       , 5.4       ,\n",
       "       6.1       , 6.2       , 6.3       , 5.1       , 5.8       ,\n",
       "       5.5       , 5.3       , 6.4       , 5.7       , 5.9       ,\n",
       "       6.5       ])"
      ]
     },
     "execution_count": 87,
     "metadata": {},
     "output_type": "execute_result"
    }
   ],
   "source": [
    "df['rc'].isna().sum()\n",
    "#cleaning the noise in the data\n",
    "df['rc'].replace('\\t?', np.nan, inplace = True )\n",
    "df['rc'] = df['rc'].astype('float')\n",
    "#continuous values so we replaced it with mean \n",
    "rc_average_value =  df['rc'].mean()\n",
    "df['rc'].replace(np.nan, rc_average_value, inplace = True )\n",
    "\n",
    "df['rc'].unique()\n"
   ]
  },
  {
   "cell_type": "code",
   "execution_count": 26,
   "id": "d935c4f0",
   "metadata": {},
   "outputs": [
    {
     "data": {
      "text/html": [
       "<div>\n",
       "<style scoped>\n",
       "    .dataframe tbody tr th:only-of-type {\n",
       "        vertical-align: middle;\n",
       "    }\n",
       "\n",
       "    .dataframe tbody tr th {\n",
       "        vertical-align: top;\n",
       "    }\n",
       "\n",
       "    .dataframe thead th {\n",
       "        text-align: right;\n",
       "    }\n",
       "</style>\n",
       "<table border=\"1\" class=\"dataframe\">\n",
       "  <thead>\n",
       "    <tr style=\"text-align: right;\">\n",
       "      <th></th>\n",
       "      <th>id</th>\n",
       "      <th>age</th>\n",
       "      <th>bp</th>\n",
       "      <th>sg</th>\n",
       "      <th>al</th>\n",
       "      <th>su</th>\n",
       "      <th>rbc</th>\n",
       "      <th>pc</th>\n",
       "      <th>pcc</th>\n",
       "      <th>ba</th>\n",
       "      <th>...</th>\n",
       "      <th>pcv</th>\n",
       "      <th>wc</th>\n",
       "      <th>rc</th>\n",
       "      <th>htn</th>\n",
       "      <th>dm</th>\n",
       "      <th>cad</th>\n",
       "      <th>appet</th>\n",
       "      <th>pe</th>\n",
       "      <th>ane</th>\n",
       "      <th>classification</th>\n",
       "    </tr>\n",
       "  </thead>\n",
       "  <tbody>\n",
       "    <tr>\n",
       "      <th>0</th>\n",
       "      <td>0</td>\n",
       "      <td>48.0</td>\n",
       "      <td>80.0</td>\n",
       "      <td>1.020</td>\n",
       "      <td>1.0</td>\n",
       "      <td>0.0</td>\n",
       "      <td>1</td>\n",
       "      <td>1</td>\n",
       "      <td>0</td>\n",
       "      <td>0</td>\n",
       "      <td>...</td>\n",
       "      <td>44.0</td>\n",
       "      <td>7800.0</td>\n",
       "      <td>5.200000</td>\n",
       "      <td>yes</td>\n",
       "      <td>yes</td>\n",
       "      <td>no</td>\n",
       "      <td>good</td>\n",
       "      <td>no</td>\n",
       "      <td>no</td>\n",
       "      <td>ckd</td>\n",
       "    </tr>\n",
       "    <tr>\n",
       "      <th>1</th>\n",
       "      <td>1</td>\n",
       "      <td>7.0</td>\n",
       "      <td>50.0</td>\n",
       "      <td>1.020</td>\n",
       "      <td>4.0</td>\n",
       "      <td>0.0</td>\n",
       "      <td>1</td>\n",
       "      <td>1</td>\n",
       "      <td>0</td>\n",
       "      <td>0</td>\n",
       "      <td>...</td>\n",
       "      <td>38.0</td>\n",
       "      <td>6000.0</td>\n",
       "      <td>4.707435</td>\n",
       "      <td>no</td>\n",
       "      <td>no</td>\n",
       "      <td>no</td>\n",
       "      <td>good</td>\n",
       "      <td>no</td>\n",
       "      <td>no</td>\n",
       "      <td>ckd</td>\n",
       "    </tr>\n",
       "    <tr>\n",
       "      <th>2</th>\n",
       "      <td>2</td>\n",
       "      <td>62.0</td>\n",
       "      <td>80.0</td>\n",
       "      <td>1.010</td>\n",
       "      <td>2.0</td>\n",
       "      <td>3.0</td>\n",
       "      <td>1</td>\n",
       "      <td>1</td>\n",
       "      <td>0</td>\n",
       "      <td>0</td>\n",
       "      <td>...</td>\n",
       "      <td>31.0</td>\n",
       "      <td>7500.0</td>\n",
       "      <td>4.707435</td>\n",
       "      <td>no</td>\n",
       "      <td>yes</td>\n",
       "      <td>no</td>\n",
       "      <td>poor</td>\n",
       "      <td>no</td>\n",
       "      <td>yes</td>\n",
       "      <td>ckd</td>\n",
       "    </tr>\n",
       "    <tr>\n",
       "      <th>3</th>\n",
       "      <td>3</td>\n",
       "      <td>48.0</td>\n",
       "      <td>70.0</td>\n",
       "      <td>1.005</td>\n",
       "      <td>4.0</td>\n",
       "      <td>0.0</td>\n",
       "      <td>1</td>\n",
       "      <td>0</td>\n",
       "      <td>1</td>\n",
       "      <td>0</td>\n",
       "      <td>...</td>\n",
       "      <td>32.0</td>\n",
       "      <td>6700.0</td>\n",
       "      <td>3.900000</td>\n",
       "      <td>yes</td>\n",
       "      <td>no</td>\n",
       "      <td>no</td>\n",
       "      <td>poor</td>\n",
       "      <td>yes</td>\n",
       "      <td>yes</td>\n",
       "      <td>ckd</td>\n",
       "    </tr>\n",
       "    <tr>\n",
       "      <th>4</th>\n",
       "      <td>4</td>\n",
       "      <td>51.0</td>\n",
       "      <td>80.0</td>\n",
       "      <td>1.010</td>\n",
       "      <td>2.0</td>\n",
       "      <td>0.0</td>\n",
       "      <td>1</td>\n",
       "      <td>1</td>\n",
       "      <td>0</td>\n",
       "      <td>0</td>\n",
       "      <td>...</td>\n",
       "      <td>35.0</td>\n",
       "      <td>7300.0</td>\n",
       "      <td>4.600000</td>\n",
       "      <td>no</td>\n",
       "      <td>no</td>\n",
       "      <td>no</td>\n",
       "      <td>good</td>\n",
       "      <td>no</td>\n",
       "      <td>no</td>\n",
       "      <td>ckd</td>\n",
       "    </tr>\n",
       "    <tr>\n",
       "      <th>...</th>\n",
       "      <td>...</td>\n",
       "      <td>...</td>\n",
       "      <td>...</td>\n",
       "      <td>...</td>\n",
       "      <td>...</td>\n",
       "      <td>...</td>\n",
       "      <td>...</td>\n",
       "      <td>...</td>\n",
       "      <td>...</td>\n",
       "      <td>...</td>\n",
       "      <td>...</td>\n",
       "      <td>...</td>\n",
       "      <td>...</td>\n",
       "      <td>...</td>\n",
       "      <td>...</td>\n",
       "      <td>...</td>\n",
       "      <td>...</td>\n",
       "      <td>...</td>\n",
       "      <td>...</td>\n",
       "      <td>...</td>\n",
       "      <td>...</td>\n",
       "    </tr>\n",
       "    <tr>\n",
       "      <th>395</th>\n",
       "      <td>395</td>\n",
       "      <td>55.0</td>\n",
       "      <td>80.0</td>\n",
       "      <td>1.020</td>\n",
       "      <td>0.0</td>\n",
       "      <td>0.0</td>\n",
       "      <td>1</td>\n",
       "      <td>1</td>\n",
       "      <td>0</td>\n",
       "      <td>0</td>\n",
       "      <td>...</td>\n",
       "      <td>47.0</td>\n",
       "      <td>6700.0</td>\n",
       "      <td>4.900000</td>\n",
       "      <td>no</td>\n",
       "      <td>no</td>\n",
       "      <td>no</td>\n",
       "      <td>good</td>\n",
       "      <td>no</td>\n",
       "      <td>no</td>\n",
       "      <td>notckd</td>\n",
       "    </tr>\n",
       "    <tr>\n",
       "      <th>396</th>\n",
       "      <td>396</td>\n",
       "      <td>42.0</td>\n",
       "      <td>70.0</td>\n",
       "      <td>1.025</td>\n",
       "      <td>0.0</td>\n",
       "      <td>0.0</td>\n",
       "      <td>1</td>\n",
       "      <td>1</td>\n",
       "      <td>0</td>\n",
       "      <td>0</td>\n",
       "      <td>...</td>\n",
       "      <td>54.0</td>\n",
       "      <td>7800.0</td>\n",
       "      <td>6.200000</td>\n",
       "      <td>no</td>\n",
       "      <td>no</td>\n",
       "      <td>no</td>\n",
       "      <td>good</td>\n",
       "      <td>no</td>\n",
       "      <td>no</td>\n",
       "      <td>notckd</td>\n",
       "    </tr>\n",
       "    <tr>\n",
       "      <th>397</th>\n",
       "      <td>397</td>\n",
       "      <td>12.0</td>\n",
       "      <td>80.0</td>\n",
       "      <td>1.020</td>\n",
       "      <td>0.0</td>\n",
       "      <td>0.0</td>\n",
       "      <td>1</td>\n",
       "      <td>1</td>\n",
       "      <td>0</td>\n",
       "      <td>0</td>\n",
       "      <td>...</td>\n",
       "      <td>49.0</td>\n",
       "      <td>6600.0</td>\n",
       "      <td>5.400000</td>\n",
       "      <td>no</td>\n",
       "      <td>no</td>\n",
       "      <td>no</td>\n",
       "      <td>good</td>\n",
       "      <td>no</td>\n",
       "      <td>no</td>\n",
       "      <td>notckd</td>\n",
       "    </tr>\n",
       "    <tr>\n",
       "      <th>398</th>\n",
       "      <td>398</td>\n",
       "      <td>17.0</td>\n",
       "      <td>60.0</td>\n",
       "      <td>1.025</td>\n",
       "      <td>0.0</td>\n",
       "      <td>0.0</td>\n",
       "      <td>1</td>\n",
       "      <td>1</td>\n",
       "      <td>0</td>\n",
       "      <td>0</td>\n",
       "      <td>...</td>\n",
       "      <td>51.0</td>\n",
       "      <td>7200.0</td>\n",
       "      <td>5.900000</td>\n",
       "      <td>no</td>\n",
       "      <td>no</td>\n",
       "      <td>no</td>\n",
       "      <td>good</td>\n",
       "      <td>no</td>\n",
       "      <td>no</td>\n",
       "      <td>notckd</td>\n",
       "    </tr>\n",
       "    <tr>\n",
       "      <th>399</th>\n",
       "      <td>399</td>\n",
       "      <td>58.0</td>\n",
       "      <td>80.0</td>\n",
       "      <td>1.025</td>\n",
       "      <td>0.0</td>\n",
       "      <td>0.0</td>\n",
       "      <td>1</td>\n",
       "      <td>1</td>\n",
       "      <td>0</td>\n",
       "      <td>0</td>\n",
       "      <td>...</td>\n",
       "      <td>53.0</td>\n",
       "      <td>6800.0</td>\n",
       "      <td>6.100000</td>\n",
       "      <td>no</td>\n",
       "      <td>no</td>\n",
       "      <td>no</td>\n",
       "      <td>good</td>\n",
       "      <td>no</td>\n",
       "      <td>no</td>\n",
       "      <td>notckd</td>\n",
       "    </tr>\n",
       "  </tbody>\n",
       "</table>\n",
       "<p>400 rows × 26 columns</p>\n",
       "</div>"
      ],
      "text/plain": [
       "      id   age    bp     sg   al   su  rbc  pc  pcc  ba  ...   pcv      wc  \\\n",
       "0      0  48.0  80.0  1.020  1.0  0.0    1   1    0   0  ...  44.0  7800.0   \n",
       "1      1   7.0  50.0  1.020  4.0  0.0    1   1    0   0  ...  38.0  6000.0   \n",
       "2      2  62.0  80.0  1.010  2.0  3.0    1   1    0   0  ...  31.0  7500.0   \n",
       "3      3  48.0  70.0  1.005  4.0  0.0    1   0    1   0  ...  32.0  6700.0   \n",
       "4      4  51.0  80.0  1.010  2.0  0.0    1   1    0   0  ...  35.0  7300.0   \n",
       "..   ...   ...   ...    ...  ...  ...  ...  ..  ...  ..  ...   ...     ...   \n",
       "395  395  55.0  80.0  1.020  0.0  0.0    1   1    0   0  ...  47.0  6700.0   \n",
       "396  396  42.0  70.0  1.025  0.0  0.0    1   1    0   0  ...  54.0  7800.0   \n",
       "397  397  12.0  80.0  1.020  0.0  0.0    1   1    0   0  ...  49.0  6600.0   \n",
       "398  398  17.0  60.0  1.025  0.0  0.0    1   1    0   0  ...  51.0  7200.0   \n",
       "399  399  58.0  80.0  1.025  0.0  0.0    1   1    0   0  ...  53.0  6800.0   \n",
       "\n",
       "           rc  htn   dm  cad  appet   pe  ane classification  \n",
       "0    5.200000  yes  yes   no   good   no   no            ckd  \n",
       "1    4.707435   no   no   no   good   no   no            ckd  \n",
       "2    4.707435   no  yes   no   poor   no  yes            ckd  \n",
       "3    3.900000  yes   no   no   poor  yes  yes            ckd  \n",
       "4    4.600000   no   no   no   good   no   no            ckd  \n",
       "..        ...  ...  ...  ...    ...  ...  ...            ...  \n",
       "395  4.900000   no   no   no   good   no   no         notckd  \n",
       "396  6.200000   no   no   no   good   no   no         notckd  \n",
       "397  5.400000   no   no   no   good   no   no         notckd  \n",
       "398  5.900000   no   no   no   good   no   no         notckd  \n",
       "399  6.100000   no   no   no   good   no   no         notckd  \n",
       "\n",
       "[400 rows x 26 columns]"
      ]
     },
     "execution_count": 26,
     "metadata": {},
     "output_type": "execute_result"
    }
   ],
   "source": [
    "df"
   ]
  },
  {
   "cell_type": "code",
   "execution_count": 27,
   "id": "b6f8bacb",
   "metadata": {},
   "outputs": [
    {
     "data": {
      "text/plain": [
       "array([1, 0], dtype=int64)"
      ]
     },
     "execution_count": 27,
     "metadata": {},
     "output_type": "execute_result"
    }
   ],
   "source": [
    "df['htn'].isna().sum()\n",
    "#discrete values so we replaced with most frequent\n",
    "htn_frequent_value = df['htn'].value_counts().idxmax()\n",
    "df['htn'].replace(np.nan, htn_frequent_value, inplace = True )\n",
    "\n",
    "#encoding and processing the values\n",
    "df['htn'].replace('no', 0, inplace = True)\n",
    "df['htn'].replace('yes', 1, inplace = True)\n",
    "df['htn'].unique()\n"
   ]
  },
  {
   "cell_type": "code",
   "execution_count": 28,
   "id": "cd2f5dce",
   "metadata": {},
   "outputs": [
    {
     "data": {
      "text/plain": [
       "array([1, 0], dtype=int64)"
      ]
     },
     "execution_count": 28,
     "metadata": {},
     "output_type": "execute_result"
    }
   ],
   "source": [
    "df['dm'].isna().sum()\n",
    "#cleaning the noise in the data\n",
    "df['dm'].replace(' yes', 'yes', inplace = True )\n",
    "df['dm'].replace('\\tyes', 'yes', inplace = True )\n",
    "df['dm'].replace('\\tno', 'no', inplace = True )\n",
    "\n",
    "#discrete values so we replaced with most frequent\n",
    "dm_frequent_value = df['dm'].value_counts().idxmax()\n",
    "df['dm'].replace(np.nan, dm_frequent_value, inplace = True )\n",
    "\n",
    "#encoding and processing the values\n",
    "df['dm'].replace('no', 0, inplace = True)\n",
    "df['dm'].replace('yes', 1, inplace = True)\n",
    "\n",
    "df['dm'].unique()"
   ]
  },
  {
   "cell_type": "code",
   "execution_count": 29,
   "id": "db616044",
   "metadata": {},
   "outputs": [
    {
     "data": {
      "text/html": [
       "<div>\n",
       "<style scoped>\n",
       "    .dataframe tbody tr th:only-of-type {\n",
       "        vertical-align: middle;\n",
       "    }\n",
       "\n",
       "    .dataframe tbody tr th {\n",
       "        vertical-align: top;\n",
       "    }\n",
       "\n",
       "    .dataframe thead th {\n",
       "        text-align: right;\n",
       "    }\n",
       "</style>\n",
       "<table border=\"1\" class=\"dataframe\">\n",
       "  <thead>\n",
       "    <tr style=\"text-align: right;\">\n",
       "      <th></th>\n",
       "      <th>id</th>\n",
       "      <th>age</th>\n",
       "      <th>bp</th>\n",
       "      <th>sg</th>\n",
       "      <th>al</th>\n",
       "      <th>su</th>\n",
       "      <th>rbc</th>\n",
       "      <th>pc</th>\n",
       "      <th>pcc</th>\n",
       "      <th>ba</th>\n",
       "      <th>...</th>\n",
       "      <th>pcv</th>\n",
       "      <th>wc</th>\n",
       "      <th>rc</th>\n",
       "      <th>htn</th>\n",
       "      <th>dm</th>\n",
       "      <th>cad</th>\n",
       "      <th>appet</th>\n",
       "      <th>pe</th>\n",
       "      <th>ane</th>\n",
       "      <th>classification</th>\n",
       "    </tr>\n",
       "  </thead>\n",
       "  <tbody>\n",
       "    <tr>\n",
       "      <th>0</th>\n",
       "      <td>0</td>\n",
       "      <td>48.0</td>\n",
       "      <td>80.0</td>\n",
       "      <td>1.020</td>\n",
       "      <td>1.0</td>\n",
       "      <td>0.0</td>\n",
       "      <td>1</td>\n",
       "      <td>1</td>\n",
       "      <td>0</td>\n",
       "      <td>0</td>\n",
       "      <td>...</td>\n",
       "      <td>44.0</td>\n",
       "      <td>7800.0</td>\n",
       "      <td>5.200000</td>\n",
       "      <td>1</td>\n",
       "      <td>1</td>\n",
       "      <td>no</td>\n",
       "      <td>good</td>\n",
       "      <td>no</td>\n",
       "      <td>no</td>\n",
       "      <td>ckd</td>\n",
       "    </tr>\n",
       "    <tr>\n",
       "      <th>1</th>\n",
       "      <td>1</td>\n",
       "      <td>7.0</td>\n",
       "      <td>50.0</td>\n",
       "      <td>1.020</td>\n",
       "      <td>4.0</td>\n",
       "      <td>0.0</td>\n",
       "      <td>1</td>\n",
       "      <td>1</td>\n",
       "      <td>0</td>\n",
       "      <td>0</td>\n",
       "      <td>...</td>\n",
       "      <td>38.0</td>\n",
       "      <td>6000.0</td>\n",
       "      <td>4.707435</td>\n",
       "      <td>0</td>\n",
       "      <td>0</td>\n",
       "      <td>no</td>\n",
       "      <td>good</td>\n",
       "      <td>no</td>\n",
       "      <td>no</td>\n",
       "      <td>ckd</td>\n",
       "    </tr>\n",
       "    <tr>\n",
       "      <th>2</th>\n",
       "      <td>2</td>\n",
       "      <td>62.0</td>\n",
       "      <td>80.0</td>\n",
       "      <td>1.010</td>\n",
       "      <td>2.0</td>\n",
       "      <td>3.0</td>\n",
       "      <td>1</td>\n",
       "      <td>1</td>\n",
       "      <td>0</td>\n",
       "      <td>0</td>\n",
       "      <td>...</td>\n",
       "      <td>31.0</td>\n",
       "      <td>7500.0</td>\n",
       "      <td>4.707435</td>\n",
       "      <td>0</td>\n",
       "      <td>1</td>\n",
       "      <td>no</td>\n",
       "      <td>poor</td>\n",
       "      <td>no</td>\n",
       "      <td>yes</td>\n",
       "      <td>ckd</td>\n",
       "    </tr>\n",
       "    <tr>\n",
       "      <th>3</th>\n",
       "      <td>3</td>\n",
       "      <td>48.0</td>\n",
       "      <td>70.0</td>\n",
       "      <td>1.005</td>\n",
       "      <td>4.0</td>\n",
       "      <td>0.0</td>\n",
       "      <td>1</td>\n",
       "      <td>0</td>\n",
       "      <td>1</td>\n",
       "      <td>0</td>\n",
       "      <td>...</td>\n",
       "      <td>32.0</td>\n",
       "      <td>6700.0</td>\n",
       "      <td>3.900000</td>\n",
       "      <td>1</td>\n",
       "      <td>0</td>\n",
       "      <td>no</td>\n",
       "      <td>poor</td>\n",
       "      <td>yes</td>\n",
       "      <td>yes</td>\n",
       "      <td>ckd</td>\n",
       "    </tr>\n",
       "    <tr>\n",
       "      <th>4</th>\n",
       "      <td>4</td>\n",
       "      <td>51.0</td>\n",
       "      <td>80.0</td>\n",
       "      <td>1.010</td>\n",
       "      <td>2.0</td>\n",
       "      <td>0.0</td>\n",
       "      <td>1</td>\n",
       "      <td>1</td>\n",
       "      <td>0</td>\n",
       "      <td>0</td>\n",
       "      <td>...</td>\n",
       "      <td>35.0</td>\n",
       "      <td>7300.0</td>\n",
       "      <td>4.600000</td>\n",
       "      <td>0</td>\n",
       "      <td>0</td>\n",
       "      <td>no</td>\n",
       "      <td>good</td>\n",
       "      <td>no</td>\n",
       "      <td>no</td>\n",
       "      <td>ckd</td>\n",
       "    </tr>\n",
       "    <tr>\n",
       "      <th>...</th>\n",
       "      <td>...</td>\n",
       "      <td>...</td>\n",
       "      <td>...</td>\n",
       "      <td>...</td>\n",
       "      <td>...</td>\n",
       "      <td>...</td>\n",
       "      <td>...</td>\n",
       "      <td>...</td>\n",
       "      <td>...</td>\n",
       "      <td>...</td>\n",
       "      <td>...</td>\n",
       "      <td>...</td>\n",
       "      <td>...</td>\n",
       "      <td>...</td>\n",
       "      <td>...</td>\n",
       "      <td>...</td>\n",
       "      <td>...</td>\n",
       "      <td>...</td>\n",
       "      <td>...</td>\n",
       "      <td>...</td>\n",
       "      <td>...</td>\n",
       "    </tr>\n",
       "    <tr>\n",
       "      <th>395</th>\n",
       "      <td>395</td>\n",
       "      <td>55.0</td>\n",
       "      <td>80.0</td>\n",
       "      <td>1.020</td>\n",
       "      <td>0.0</td>\n",
       "      <td>0.0</td>\n",
       "      <td>1</td>\n",
       "      <td>1</td>\n",
       "      <td>0</td>\n",
       "      <td>0</td>\n",
       "      <td>...</td>\n",
       "      <td>47.0</td>\n",
       "      <td>6700.0</td>\n",
       "      <td>4.900000</td>\n",
       "      <td>0</td>\n",
       "      <td>0</td>\n",
       "      <td>no</td>\n",
       "      <td>good</td>\n",
       "      <td>no</td>\n",
       "      <td>no</td>\n",
       "      <td>notckd</td>\n",
       "    </tr>\n",
       "    <tr>\n",
       "      <th>396</th>\n",
       "      <td>396</td>\n",
       "      <td>42.0</td>\n",
       "      <td>70.0</td>\n",
       "      <td>1.025</td>\n",
       "      <td>0.0</td>\n",
       "      <td>0.0</td>\n",
       "      <td>1</td>\n",
       "      <td>1</td>\n",
       "      <td>0</td>\n",
       "      <td>0</td>\n",
       "      <td>...</td>\n",
       "      <td>54.0</td>\n",
       "      <td>7800.0</td>\n",
       "      <td>6.200000</td>\n",
       "      <td>0</td>\n",
       "      <td>0</td>\n",
       "      <td>no</td>\n",
       "      <td>good</td>\n",
       "      <td>no</td>\n",
       "      <td>no</td>\n",
       "      <td>notckd</td>\n",
       "    </tr>\n",
       "    <tr>\n",
       "      <th>397</th>\n",
       "      <td>397</td>\n",
       "      <td>12.0</td>\n",
       "      <td>80.0</td>\n",
       "      <td>1.020</td>\n",
       "      <td>0.0</td>\n",
       "      <td>0.0</td>\n",
       "      <td>1</td>\n",
       "      <td>1</td>\n",
       "      <td>0</td>\n",
       "      <td>0</td>\n",
       "      <td>...</td>\n",
       "      <td>49.0</td>\n",
       "      <td>6600.0</td>\n",
       "      <td>5.400000</td>\n",
       "      <td>0</td>\n",
       "      <td>0</td>\n",
       "      <td>no</td>\n",
       "      <td>good</td>\n",
       "      <td>no</td>\n",
       "      <td>no</td>\n",
       "      <td>notckd</td>\n",
       "    </tr>\n",
       "    <tr>\n",
       "      <th>398</th>\n",
       "      <td>398</td>\n",
       "      <td>17.0</td>\n",
       "      <td>60.0</td>\n",
       "      <td>1.025</td>\n",
       "      <td>0.0</td>\n",
       "      <td>0.0</td>\n",
       "      <td>1</td>\n",
       "      <td>1</td>\n",
       "      <td>0</td>\n",
       "      <td>0</td>\n",
       "      <td>...</td>\n",
       "      <td>51.0</td>\n",
       "      <td>7200.0</td>\n",
       "      <td>5.900000</td>\n",
       "      <td>0</td>\n",
       "      <td>0</td>\n",
       "      <td>no</td>\n",
       "      <td>good</td>\n",
       "      <td>no</td>\n",
       "      <td>no</td>\n",
       "      <td>notckd</td>\n",
       "    </tr>\n",
       "    <tr>\n",
       "      <th>399</th>\n",
       "      <td>399</td>\n",
       "      <td>58.0</td>\n",
       "      <td>80.0</td>\n",
       "      <td>1.025</td>\n",
       "      <td>0.0</td>\n",
       "      <td>0.0</td>\n",
       "      <td>1</td>\n",
       "      <td>1</td>\n",
       "      <td>0</td>\n",
       "      <td>0</td>\n",
       "      <td>...</td>\n",
       "      <td>53.0</td>\n",
       "      <td>6800.0</td>\n",
       "      <td>6.100000</td>\n",
       "      <td>0</td>\n",
       "      <td>0</td>\n",
       "      <td>no</td>\n",
       "      <td>good</td>\n",
       "      <td>no</td>\n",
       "      <td>no</td>\n",
       "      <td>notckd</td>\n",
       "    </tr>\n",
       "  </tbody>\n",
       "</table>\n",
       "<p>400 rows × 26 columns</p>\n",
       "</div>"
      ],
      "text/plain": [
       "      id   age    bp     sg   al   su  rbc  pc  pcc  ba  ...   pcv      wc  \\\n",
       "0      0  48.0  80.0  1.020  1.0  0.0    1   1    0   0  ...  44.0  7800.0   \n",
       "1      1   7.0  50.0  1.020  4.0  0.0    1   1    0   0  ...  38.0  6000.0   \n",
       "2      2  62.0  80.0  1.010  2.0  3.0    1   1    0   0  ...  31.0  7500.0   \n",
       "3      3  48.0  70.0  1.005  4.0  0.0    1   0    1   0  ...  32.0  6700.0   \n",
       "4      4  51.0  80.0  1.010  2.0  0.0    1   1    0   0  ...  35.0  7300.0   \n",
       "..   ...   ...   ...    ...  ...  ...  ...  ..  ...  ..  ...   ...     ...   \n",
       "395  395  55.0  80.0  1.020  0.0  0.0    1   1    0   0  ...  47.0  6700.0   \n",
       "396  396  42.0  70.0  1.025  0.0  0.0    1   1    0   0  ...  54.0  7800.0   \n",
       "397  397  12.0  80.0  1.020  0.0  0.0    1   1    0   0  ...  49.0  6600.0   \n",
       "398  398  17.0  60.0  1.025  0.0  0.0    1   1    0   0  ...  51.0  7200.0   \n",
       "399  399  58.0  80.0  1.025  0.0  0.0    1   1    0   0  ...  53.0  6800.0   \n",
       "\n",
       "           rc  htn  dm  cad  appet   pe  ane  classification  \n",
       "0    5.200000    1   1   no   good   no   no             ckd  \n",
       "1    4.707435    0   0   no   good   no   no             ckd  \n",
       "2    4.707435    0   1   no   poor   no  yes             ckd  \n",
       "3    3.900000    1   0   no   poor  yes  yes             ckd  \n",
       "4    4.600000    0   0   no   good   no   no             ckd  \n",
       "..        ...  ...  ..  ...    ...  ...  ...             ...  \n",
       "395  4.900000    0   0   no   good   no   no          notckd  \n",
       "396  6.200000    0   0   no   good   no   no          notckd  \n",
       "397  5.400000    0   0   no   good   no   no          notckd  \n",
       "398  5.900000    0   0   no   good   no   no          notckd  \n",
       "399  6.100000    0   0   no   good   no   no          notckd  \n",
       "\n",
       "[400 rows x 26 columns]"
      ]
     },
     "execution_count": 29,
     "metadata": {},
     "output_type": "execute_result"
    }
   ],
   "source": [
    "df"
   ]
  },
  {
   "cell_type": "code",
   "execution_count": 30,
   "id": "ce1c4069",
   "metadata": {},
   "outputs": [
    {
     "data": {
      "text/plain": [
       "array([0, 1], dtype=int64)"
      ]
     },
     "execution_count": 30,
     "metadata": {},
     "output_type": "execute_result"
    }
   ],
   "source": [
    "df['cad'].isna().sum()\n",
    "#cleaning the noise in the data\n",
    "df['cad'].replace('\\tno', 'no',inplace = True)\n",
    "\n",
    "#discrete values so we replaced with most frequent\n",
    "cad_frequent_value = df['cad'].value_counts().idxmax()\n",
    "df['cad'].replace(np.nan, cad_frequent_value, inplace = True )\n",
    "\n",
    "#encoding and processing the values\n",
    "df['cad'].replace('no', 0, inplace = True)\n",
    "df['cad'].replace('yes', 1, inplace = True)\n",
    "\n",
    "df['cad'].unique()"
   ]
  },
  {
   "cell_type": "code",
   "execution_count": 31,
   "id": "e105001c",
   "metadata": {},
   "outputs": [
    {
     "data": {
      "text/plain": [
       "array([1, 0], dtype=int64)"
      ]
     },
     "execution_count": 31,
     "metadata": {},
     "output_type": "execute_result"
    }
   ],
   "source": [
    "df['appet'].isna().sum()\n",
    "#one row has null values so we'll just drop it  \n",
    "df.dropna(subset = ['appet'], axis =0, inplace = True)\n",
    "\n",
    "#encoding and processing the values\n",
    "df['appet'].replace('poor', 0, inplace = True)\n",
    "df['appet'].replace('good', 1, inplace = True)\n",
    "\n",
    "df['appet'].unique()"
   ]
  },
  {
   "cell_type": "code",
   "execution_count": 32,
   "id": "82e0bcd5",
   "metadata": {},
   "outputs": [
    {
     "data": {
      "text/plain": [
       "array([0, 1], dtype=int64)"
      ]
     },
     "execution_count": 32,
     "metadata": {},
     "output_type": "execute_result"
    }
   ],
   "source": [
    "df['pe'].isna().sum()\n",
    "#one row has null values so we'll just drop it  \n",
    "df.dropna(subset = ['pe'], axis =0, inplace = True)\n",
    "\n",
    "#encoding and processing the values\n",
    "df['pe'].replace('no', 0, inplace = True)\n",
    "df['pe'].replace('yes', 1, inplace = True)\n",
    "\n",
    "df['pe'].unique()"
   ]
  },
  {
   "cell_type": "code",
   "execution_count": 33,
   "id": "4fc57b38",
   "metadata": {},
   "outputs": [
    {
     "data": {
      "text/plain": [
       "array([0, 1], dtype=int64)"
      ]
     },
     "execution_count": 33,
     "metadata": {},
     "output_type": "execute_result"
    }
   ],
   "source": [
    "df['ane'].isna().sum()\n",
    "#one row has null values so we'll just drop it  \n",
    "df.dropna(subset = ['ane'], axis =0, inplace = True)\n",
    "\n",
    "#encoding and processing the values\n",
    "df['ane'].replace('no', 0, inplace = True)\n",
    "df['ane'].replace('yes', 1, inplace = True)\n",
    "\n",
    "df['ane'].unique()"
   ]
  },
  {
   "cell_type": "code",
   "execution_count": 34,
   "id": "65001bde",
   "metadata": {},
   "outputs": [],
   "source": [
    "df['classification'].unique()\n",
    "df['classification'].replace('notckd', 0, inplace = True)\n",
    "df['classification'].replace('ckd', 1, inplace = True)\n",
    "df['classification'].replace('ckd\\t', 2, inplace = True)\n",
    "df['classification'].replace(2, 1, inplace = True)\n"
   ]
  },
  {
   "cell_type": "code",
   "execution_count": 35,
   "id": "8aacc142",
   "metadata": {},
   "outputs": [
    {
     "data": {
      "text/plain": [
       "id                False\n",
       "age               False\n",
       "bp                False\n",
       "sg                False\n",
       "al                False\n",
       "su                False\n",
       "rbc               False\n",
       "pc                False\n",
       "pcc               False\n",
       "ba                False\n",
       "bgr               False\n",
       "bu                False\n",
       "sc                False\n",
       "sod               False\n",
       "pot               False\n",
       "hemo              False\n",
       "pcv               False\n",
       "wc                False\n",
       "rc                False\n",
       "htn               False\n",
       "dm                False\n",
       "cad               False\n",
       "appet             False\n",
       "pe                False\n",
       "ane               False\n",
       "classification    False\n",
       "dtype: bool"
      ]
     },
     "execution_count": 35,
     "metadata": {},
     "output_type": "execute_result"
    }
   ],
   "source": [
    "df.isnull().any()"
   ]
  },
  {
   "cell_type": "code",
   "execution_count": 36,
   "id": "8bdeb268",
   "metadata": {},
   "outputs": [],
   "source": [
    "df.to_csv('C:/Users/Pro/Desktop/kidney0.csv')"
   ]
  },
  {
   "cell_type": "markdown",
   "id": "a2b1a73b",
   "metadata": {},
   "source": [
    "# here is the correlation between our target column and the rest of the columns in the dataset"
   ]
  },
  {
   "cell_type": "code",
   "execution_count": 37,
   "id": "d7603f46",
   "metadata": {
    "scrolled": true
   },
   "outputs": [
    {
     "data": {
      "text/plain": [
       "0.2309325672171259"
      ]
     },
     "execution_count": 37,
     "metadata": {},
     "output_type": "execute_result"
    }
   ],
   "source": [
    "df['classification'].corr(df['age'])"
   ]
  },
  {
   "cell_type": "code",
   "execution_count": 38,
   "id": "592bfc84",
   "metadata": {},
   "outputs": [
    {
     "data": {
      "text/plain": [
       "0.2877819301904025"
      ]
     },
     "execution_count": 38,
     "metadata": {},
     "output_type": "execute_result"
    }
   ],
   "source": [
    "df['classification'].corr(df['bp'])"
   ]
  },
  {
   "cell_type": "code",
   "execution_count": 39,
   "id": "e8de8fbc",
   "metadata": {},
   "outputs": [
    {
     "data": {
      "text/plain": [
       "-0.6596662096317505"
      ]
     },
     "execution_count": 39,
     "metadata": {},
     "output_type": "execute_result"
    }
   ],
   "source": [
    "df['classification'].corr(df['sg'])"
   ]
  },
  {
   "cell_type": "code",
   "execution_count": 40,
   "id": "636caf1c",
   "metadata": {},
   "outputs": [
    {
     "data": {
      "text/plain": [
       "0.5307639393511075"
      ]
     },
     "execution_count": 40,
     "metadata": {},
     "output_type": "execute_result"
    }
   ],
   "source": [
    "df['classification'].corr(df['al'])"
   ]
  },
  {
   "cell_type": "code",
   "execution_count": 41,
   "id": "239b8309",
   "metadata": {},
   "outputs": [
    {
     "data": {
      "text/plain": [
       "0.29399286776969685"
      ]
     },
     "execution_count": 41,
     "metadata": {},
     "output_type": "execute_result"
    }
   ],
   "source": [
    "df['classification'].corr(df['su'])"
   ]
  },
  {
   "cell_type": "code",
   "execution_count": 42,
   "id": "67dd1d28",
   "metadata": {},
   "outputs": [
    {
     "data": {
      "text/plain": [
       "-0.28209846765720925"
      ]
     },
     "execution_count": 42,
     "metadata": {},
     "output_type": "execute_result"
    }
   ],
   "source": [
    "df['classification'].corr(df['rbc'])"
   ]
  },
  {
   "cell_type": "code",
   "execution_count": 43,
   "id": "69846b7f",
   "metadata": {},
   "outputs": [
    {
     "data": {
      "text/plain": [
       "-0.37448003166744026"
      ]
     },
     "execution_count": 43,
     "metadata": {},
     "output_type": "execute_result"
    }
   ],
   "source": [
    "df['classification'].corr(df['pc'])"
   ]
  },
  {
   "cell_type": "code",
   "execution_count": 44,
   "id": "44ff199f",
   "metadata": {},
   "outputs": [
    {
     "data": {
      "text/plain": [
       "0.26479736981100005"
      ]
     },
     "execution_count": 44,
     "metadata": {},
     "output_type": "execute_result"
    }
   ],
   "source": [
    "df['classification'].corr(df['pcc'])"
   ]
  },
  {
   "cell_type": "code",
   "execution_count": 45,
   "id": "f1cf34f8",
   "metadata": {},
   "outputs": [
    {
     "data": {
      "text/plain": [
       "0.18649354103776986"
      ]
     },
     "execution_count": 45,
     "metadata": {},
     "output_type": "execute_result"
    }
   ],
   "source": [
    "df['classification'].corr(df['ba'])"
   ]
  },
  {
   "cell_type": "code",
   "execution_count": 46,
   "id": "beb84d8b",
   "metadata": {},
   "outputs": [
    {
     "data": {
      "text/plain": [
       "0.40069347068301214"
      ]
     },
     "execution_count": 46,
     "metadata": {},
     "output_type": "execute_result"
    }
   ],
   "source": [
    "df['classification'].corr(df['bgr'])"
   ]
  },
  {
   "cell_type": "code",
   "execution_count": 47,
   "id": "2da73830",
   "metadata": {},
   "outputs": [
    {
     "data": {
      "text/plain": [
       "0.37233379778307607"
      ]
     },
     "execution_count": 47,
     "metadata": {},
     "output_type": "execute_result"
    }
   ],
   "source": [
    "df['classification'].corr(df['bu'])"
   ]
  },
  {
   "cell_type": "code",
   "execution_count": 48,
   "id": "c22dcd5d",
   "metadata": {},
   "outputs": [
    {
     "data": {
      "text/plain": [
       "0.2933901033985219"
      ]
     },
     "execution_count": 48,
     "metadata": {},
     "output_type": "execute_result"
    }
   ],
   "source": [
    "df['classification'].corr(df['sc'])"
   ]
  },
  {
   "cell_type": "code",
   "execution_count": 49,
   "id": "d83a9d63",
   "metadata": {},
   "outputs": [
    {
     "data": {
      "text/plain": [
       "-0.34392947480106295"
      ]
     },
     "execution_count": 49,
     "metadata": {},
     "output_type": "execute_result"
    }
   ],
   "source": [
    "df['classification'].corr(df['sod'])"
   ]
  },
  {
   "cell_type": "code",
   "execution_count": 50,
   "id": "fc01b67f",
   "metadata": {},
   "outputs": [
    {
     "data": {
      "text/plain": [
       "0.07751348454561326"
      ]
     },
     "execution_count": 50,
     "metadata": {},
     "output_type": "execute_result"
    }
   ],
   "source": [
    "df['classification'].corr(df['pot'])"
   ]
  },
  {
   "cell_type": "code",
   "execution_count": 51,
   "id": "f5a39192",
   "metadata": {},
   "outputs": [
    {
     "data": {
      "text/plain": [
       "-0.7294281589557993"
      ]
     },
     "execution_count": 51,
     "metadata": {},
     "output_type": "execute_result"
    }
   ],
   "source": [
    "df['classification'].corr(df['hemo'])"
   ]
  },
  {
   "cell_type": "code",
   "execution_count": 52,
   "id": "7d3dca1a",
   "metadata": {},
   "outputs": [
    {
     "data": {
      "text/plain": [
       "-0.6910779367700747"
      ]
     },
     "execution_count": 52,
     "metadata": {},
     "output_type": "execute_result"
    }
   ],
   "source": [
    "df['classification'].corr(df['pcv'])"
   ]
  },
  {
   "cell_type": "code",
   "execution_count": 53,
   "id": "92d423b9",
   "metadata": {},
   "outputs": [
    {
     "data": {
      "text/plain": [
       "-0.5891830887526028"
      ]
     },
     "execution_count": 53,
     "metadata": {},
     "output_type": "execute_result"
    }
   ],
   "source": [
    "df['classification'].corr(df['rc'])"
   ]
  },
  {
   "cell_type": "code",
   "execution_count": 54,
   "id": "d5f9a79f",
   "metadata": {},
   "outputs": [
    {
     "data": {
      "text/plain": [
       "0.20556818961386122"
      ]
     },
     "execution_count": 54,
     "metadata": {},
     "output_type": "execute_result"
    }
   ],
   "source": [
    "df['classification'].corr(df['wc'])"
   ]
  },
  {
   "cell_type": "code",
   "execution_count": 55,
   "id": "14ef6a48",
   "metadata": {},
   "outputs": [
    {
     "data": {
      "text/plain": [
       "0.5896326540030383"
      ]
     },
     "execution_count": 55,
     "metadata": {},
     "output_type": "execute_result"
    }
   ],
   "source": [
    "df['classification'].corr(df['htn'])"
   ]
  },
  {
   "cell_type": "code",
   "execution_count": 56,
   "id": "cb15d066",
   "metadata": {},
   "outputs": [
    {
     "data": {
      "text/plain": [
       "0.5582551880294817"
      ]
     },
     "execution_count": 56,
     "metadata": {},
     "output_type": "execute_result"
    }
   ],
   "source": [
    "df['classification'].corr(df['dm'])"
   ]
  },
  {
   "cell_type": "code",
   "execution_count": 57,
   "id": "d4e44510",
   "metadata": {},
   "outputs": [
    {
     "data": {
      "text/plain": [
       "0.23562217259667675"
      ]
     },
     "execution_count": 57,
     "metadata": {},
     "output_type": "execute_result"
    }
   ],
   "source": [
    "df['classification'].corr(df['cad'])"
   ]
  },
  {
   "cell_type": "code",
   "execution_count": 58,
   "id": "8fcfe544",
   "metadata": {},
   "outputs": [
    {
     "data": {
      "text/plain": [
       "-0.39264531959919574"
      ]
     },
     "execution_count": 58,
     "metadata": {},
     "output_type": "execute_result"
    }
   ],
   "source": [
    "df['classification'].corr(df['appet'])"
   ]
  },
  {
   "cell_type": "code",
   "execution_count": 59,
   "id": "df1be756",
   "metadata": {},
   "outputs": [
    {
     "data": {
      "text/plain": [
       "0.37448003166744026"
      ]
     },
     "execution_count": 59,
     "metadata": {},
     "output_type": "execute_result"
    }
   ],
   "source": [
    "df['classification'].corr(df['pe'])"
   ]
  },
  {
   "cell_type": "code",
   "execution_count": 60,
   "id": "15adc103",
   "metadata": {},
   "outputs": [
    {
     "data": {
      "text/plain": [
       "0.32478720058480876"
      ]
     },
     "execution_count": 60,
     "metadata": {},
     "output_type": "execute_result"
    }
   ],
   "source": [
    "df['classification'].corr(df['ane'])"
   ]
  },
  {
   "cell_type": "code",
   "execution_count": 44,
   "id": "c02d362a",
   "metadata": {},
   "outputs": [],
   "source": [
    "#df.dropna(subset=['id'], axis = 1, inplace = True)\n"
   ]
  },
  {
   "cell_type": "code",
   "execution_count": 90,
   "id": "957366cf",
   "metadata": {},
   "outputs": [
    {
     "data": {
      "text/html": [
       "<div>\n",
       "<style scoped>\n",
       "    .dataframe tbody tr th:only-of-type {\n",
       "        vertical-align: middle;\n",
       "    }\n",
       "\n",
       "    .dataframe tbody tr th {\n",
       "        vertical-align: top;\n",
       "    }\n",
       "\n",
       "    .dataframe thead th {\n",
       "        text-align: right;\n",
       "    }\n",
       "</style>\n",
       "<table border=\"1\" class=\"dataframe\">\n",
       "  <thead>\n",
       "    <tr style=\"text-align: right;\">\n",
       "      <th></th>\n",
       "      <th>age</th>\n",
       "      <th>bp</th>\n",
       "      <th>sg</th>\n",
       "      <th>al</th>\n",
       "      <th>su</th>\n",
       "      <th>rbc</th>\n",
       "      <th>pc</th>\n",
       "      <th>pcc</th>\n",
       "      <th>ba</th>\n",
       "      <th>bgr</th>\n",
       "      <th>...</th>\n",
       "      <th>pcv</th>\n",
       "      <th>wc</th>\n",
       "      <th>rc</th>\n",
       "      <th>htn</th>\n",
       "      <th>dm</th>\n",
       "      <th>cad</th>\n",
       "      <th>appet</th>\n",
       "      <th>pe</th>\n",
       "      <th>ane</th>\n",
       "      <th>classification</th>\n",
       "    </tr>\n",
       "  </thead>\n",
       "  <tbody>\n",
       "    <tr>\n",
       "      <th>0</th>\n",
       "      <td>48.0</td>\n",
       "      <td>80.0</td>\n",
       "      <td>1.020</td>\n",
       "      <td>1.0</td>\n",
       "      <td>0.0</td>\n",
       "      <td>1</td>\n",
       "      <td>1</td>\n",
       "      <td>0</td>\n",
       "      <td>0</td>\n",
       "      <td>121.000000</td>\n",
       "      <td>...</td>\n",
       "      <td>44.0</td>\n",
       "      <td>7800.0</td>\n",
       "      <td>5.200000</td>\n",
       "      <td>1</td>\n",
       "      <td>1</td>\n",
       "      <td>0</td>\n",
       "      <td>1</td>\n",
       "      <td>0</td>\n",
       "      <td>0</td>\n",
       "      <td>1</td>\n",
       "    </tr>\n",
       "    <tr>\n",
       "      <th>1</th>\n",
       "      <td>7.0</td>\n",
       "      <td>50.0</td>\n",
       "      <td>1.020</td>\n",
       "      <td>4.0</td>\n",
       "      <td>0.0</td>\n",
       "      <td>1</td>\n",
       "      <td>1</td>\n",
       "      <td>0</td>\n",
       "      <td>0</td>\n",
       "      <td>148.036517</td>\n",
       "      <td>...</td>\n",
       "      <td>38.0</td>\n",
       "      <td>6000.0</td>\n",
       "      <td>4.707435</td>\n",
       "      <td>0</td>\n",
       "      <td>0</td>\n",
       "      <td>0</td>\n",
       "      <td>1</td>\n",
       "      <td>0</td>\n",
       "      <td>0</td>\n",
       "      <td>1</td>\n",
       "    </tr>\n",
       "    <tr>\n",
       "      <th>2</th>\n",
       "      <td>62.0</td>\n",
       "      <td>80.0</td>\n",
       "      <td>1.010</td>\n",
       "      <td>2.0</td>\n",
       "      <td>3.0</td>\n",
       "      <td>1</td>\n",
       "      <td>1</td>\n",
       "      <td>0</td>\n",
       "      <td>0</td>\n",
       "      <td>423.000000</td>\n",
       "      <td>...</td>\n",
       "      <td>31.0</td>\n",
       "      <td>7500.0</td>\n",
       "      <td>4.707435</td>\n",
       "      <td>0</td>\n",
       "      <td>1</td>\n",
       "      <td>0</td>\n",
       "      <td>0</td>\n",
       "      <td>0</td>\n",
       "      <td>1</td>\n",
       "      <td>1</td>\n",
       "    </tr>\n",
       "    <tr>\n",
       "      <th>3</th>\n",
       "      <td>48.0</td>\n",
       "      <td>70.0</td>\n",
       "      <td>1.005</td>\n",
       "      <td>4.0</td>\n",
       "      <td>0.0</td>\n",
       "      <td>1</td>\n",
       "      <td>0</td>\n",
       "      <td>1</td>\n",
       "      <td>0</td>\n",
       "      <td>117.000000</td>\n",
       "      <td>...</td>\n",
       "      <td>32.0</td>\n",
       "      <td>6700.0</td>\n",
       "      <td>3.900000</td>\n",
       "      <td>1</td>\n",
       "      <td>0</td>\n",
       "      <td>0</td>\n",
       "      <td>0</td>\n",
       "      <td>1</td>\n",
       "      <td>1</td>\n",
       "      <td>1</td>\n",
       "    </tr>\n",
       "    <tr>\n",
       "      <th>4</th>\n",
       "      <td>51.0</td>\n",
       "      <td>80.0</td>\n",
       "      <td>1.010</td>\n",
       "      <td>2.0</td>\n",
       "      <td>0.0</td>\n",
       "      <td>1</td>\n",
       "      <td>1</td>\n",
       "      <td>0</td>\n",
       "      <td>0</td>\n",
       "      <td>106.000000</td>\n",
       "      <td>...</td>\n",
       "      <td>35.0</td>\n",
       "      <td>7300.0</td>\n",
       "      <td>4.600000</td>\n",
       "      <td>0</td>\n",
       "      <td>0</td>\n",
       "      <td>0</td>\n",
       "      <td>1</td>\n",
       "      <td>0</td>\n",
       "      <td>0</td>\n",
       "      <td>1</td>\n",
       "    </tr>\n",
       "    <tr>\n",
       "      <th>...</th>\n",
       "      <td>...</td>\n",
       "      <td>...</td>\n",
       "      <td>...</td>\n",
       "      <td>...</td>\n",
       "      <td>...</td>\n",
       "      <td>...</td>\n",
       "      <td>...</td>\n",
       "      <td>...</td>\n",
       "      <td>...</td>\n",
       "      <td>...</td>\n",
       "      <td>...</td>\n",
       "      <td>...</td>\n",
       "      <td>...</td>\n",
       "      <td>...</td>\n",
       "      <td>...</td>\n",
       "      <td>...</td>\n",
       "      <td>...</td>\n",
       "      <td>...</td>\n",
       "      <td>...</td>\n",
       "      <td>...</td>\n",
       "      <td>...</td>\n",
       "    </tr>\n",
       "    <tr>\n",
       "      <th>395</th>\n",
       "      <td>55.0</td>\n",
       "      <td>80.0</td>\n",
       "      <td>1.020</td>\n",
       "      <td>0.0</td>\n",
       "      <td>0.0</td>\n",
       "      <td>1</td>\n",
       "      <td>1</td>\n",
       "      <td>0</td>\n",
       "      <td>0</td>\n",
       "      <td>140.000000</td>\n",
       "      <td>...</td>\n",
       "      <td>47.0</td>\n",
       "      <td>6700.0</td>\n",
       "      <td>4.900000</td>\n",
       "      <td>0</td>\n",
       "      <td>0</td>\n",
       "      <td>0</td>\n",
       "      <td>1</td>\n",
       "      <td>0</td>\n",
       "      <td>0</td>\n",
       "      <td>0</td>\n",
       "    </tr>\n",
       "    <tr>\n",
       "      <th>396</th>\n",
       "      <td>42.0</td>\n",
       "      <td>70.0</td>\n",
       "      <td>1.025</td>\n",
       "      <td>0.0</td>\n",
       "      <td>0.0</td>\n",
       "      <td>1</td>\n",
       "      <td>1</td>\n",
       "      <td>0</td>\n",
       "      <td>0</td>\n",
       "      <td>75.000000</td>\n",
       "      <td>...</td>\n",
       "      <td>54.0</td>\n",
       "      <td>7800.0</td>\n",
       "      <td>6.200000</td>\n",
       "      <td>0</td>\n",
       "      <td>0</td>\n",
       "      <td>0</td>\n",
       "      <td>1</td>\n",
       "      <td>0</td>\n",
       "      <td>0</td>\n",
       "      <td>0</td>\n",
       "    </tr>\n",
       "    <tr>\n",
       "      <th>397</th>\n",
       "      <td>12.0</td>\n",
       "      <td>80.0</td>\n",
       "      <td>1.020</td>\n",
       "      <td>0.0</td>\n",
       "      <td>0.0</td>\n",
       "      <td>1</td>\n",
       "      <td>1</td>\n",
       "      <td>0</td>\n",
       "      <td>0</td>\n",
       "      <td>100.000000</td>\n",
       "      <td>...</td>\n",
       "      <td>49.0</td>\n",
       "      <td>6600.0</td>\n",
       "      <td>5.400000</td>\n",
       "      <td>0</td>\n",
       "      <td>0</td>\n",
       "      <td>0</td>\n",
       "      <td>1</td>\n",
       "      <td>0</td>\n",
       "      <td>0</td>\n",
       "      <td>0</td>\n",
       "    </tr>\n",
       "    <tr>\n",
       "      <th>398</th>\n",
       "      <td>17.0</td>\n",
       "      <td>60.0</td>\n",
       "      <td>1.025</td>\n",
       "      <td>0.0</td>\n",
       "      <td>0.0</td>\n",
       "      <td>1</td>\n",
       "      <td>1</td>\n",
       "      <td>0</td>\n",
       "      <td>0</td>\n",
       "      <td>114.000000</td>\n",
       "      <td>...</td>\n",
       "      <td>51.0</td>\n",
       "      <td>7200.0</td>\n",
       "      <td>5.900000</td>\n",
       "      <td>0</td>\n",
       "      <td>0</td>\n",
       "      <td>0</td>\n",
       "      <td>1</td>\n",
       "      <td>0</td>\n",
       "      <td>0</td>\n",
       "      <td>0</td>\n",
       "    </tr>\n",
       "    <tr>\n",
       "      <th>399</th>\n",
       "      <td>58.0</td>\n",
       "      <td>80.0</td>\n",
       "      <td>1.025</td>\n",
       "      <td>0.0</td>\n",
       "      <td>0.0</td>\n",
       "      <td>1</td>\n",
       "      <td>1</td>\n",
       "      <td>0</td>\n",
       "      <td>0</td>\n",
       "      <td>131.000000</td>\n",
       "      <td>...</td>\n",
       "      <td>53.0</td>\n",
       "      <td>6800.0</td>\n",
       "      <td>6.100000</td>\n",
       "      <td>0</td>\n",
       "      <td>0</td>\n",
       "      <td>0</td>\n",
       "      <td>1</td>\n",
       "      <td>0</td>\n",
       "      <td>0</td>\n",
       "      <td>0</td>\n",
       "    </tr>\n",
       "  </tbody>\n",
       "</table>\n",
       "<p>399 rows × 25 columns</p>\n",
       "</div>"
      ],
      "text/plain": [
       "      age    bp     sg   al   su  rbc  pc  pcc  ba         bgr  ...   pcv  \\\n",
       "0    48.0  80.0  1.020  1.0  0.0    1   1    0   0  121.000000  ...  44.0   \n",
       "1     7.0  50.0  1.020  4.0  0.0    1   1    0   0  148.036517  ...  38.0   \n",
       "2    62.0  80.0  1.010  2.0  3.0    1   1    0   0  423.000000  ...  31.0   \n",
       "3    48.0  70.0  1.005  4.0  0.0    1   0    1   0  117.000000  ...  32.0   \n",
       "4    51.0  80.0  1.010  2.0  0.0    1   1    0   0  106.000000  ...  35.0   \n",
       "..    ...   ...    ...  ...  ...  ...  ..  ...  ..         ...  ...   ...   \n",
       "395  55.0  80.0  1.020  0.0  0.0    1   1    0   0  140.000000  ...  47.0   \n",
       "396  42.0  70.0  1.025  0.0  0.0    1   1    0   0   75.000000  ...  54.0   \n",
       "397  12.0  80.0  1.020  0.0  0.0    1   1    0   0  100.000000  ...  49.0   \n",
       "398  17.0  60.0  1.025  0.0  0.0    1   1    0   0  114.000000  ...  51.0   \n",
       "399  58.0  80.0  1.025  0.0  0.0    1   1    0   0  131.000000  ...  53.0   \n",
       "\n",
       "         wc        rc  htn  dm  cad  appet  pe  ane  classification  \n",
       "0    7800.0  5.200000    1   1    0      1   0    0               1  \n",
       "1    6000.0  4.707435    0   0    0      1   0    0               1  \n",
       "2    7500.0  4.707435    0   1    0      0   0    1               1  \n",
       "3    6700.0  3.900000    1   0    0      0   1    1               1  \n",
       "4    7300.0  4.600000    0   0    0      1   0    0               1  \n",
       "..      ...       ...  ...  ..  ...    ...  ..  ...             ...  \n",
       "395  6700.0  4.900000    0   0    0      1   0    0               0  \n",
       "396  7800.0  6.200000    0   0    0      1   0    0               0  \n",
       "397  6600.0  5.400000    0   0    0      1   0    0               0  \n",
       "398  7200.0  5.900000    0   0    0      1   0    0               0  \n",
       "399  6800.0  6.100000    0   0    0      1   0    0               0  \n",
       "\n",
       "[399 rows x 25 columns]"
      ]
     },
     "execution_count": 90,
     "metadata": {},
     "output_type": "execute_result"
    }
   ],
   "source": [
    "df"
   ]
  },
  {
   "cell_type": "code",
   "execution_count": null,
   "id": "f4e33118",
   "metadata": {},
   "outputs": [],
   "source": [
    "df.to_csv('C:/Users/Pro/Desktop/kidney0.csv')"
   ]
  },
  {
   "cell_type": "code",
   "execution_count": 37,
   "id": "f2c008d3",
   "metadata": {},
   "outputs": [],
   "source": [
    "import pandas as pd \n",
    "import numpy as np "
   ]
  },
  {
   "cell_type": "code",
   "execution_count": 40,
   "id": "e5d336d2",
   "metadata": {},
   "outputs": [],
   "source": [
    "df = pd.read_csv('C:/Users/Pro/Desktop/kidney0.csv')"
   ]
  },
  {
   "cell_type": "code",
   "execution_count": 16,
   "id": "c4a1d2ce",
   "metadata": {},
   "outputs": [
    {
     "data": {
      "text/plain": [
       "age               float64\n",
       "bp                float64\n",
       "sg                float64\n",
       "al                float64\n",
       "su                float64\n",
       "rbc                 int64\n",
       "pc                  int64\n",
       "pcc                 int64\n",
       "ba                  int64\n",
       "bgr               float64\n",
       "bu                float64\n",
       "sc                float64\n",
       "sod               float64\n",
       "pot               float64\n",
       "hemo              float64\n",
       "pcv               float64\n",
       "wc                float64\n",
       "rc                float64\n",
       "htn                 int64\n",
       "dm                  int64\n",
       "cad                 int64\n",
       "appet               int64\n",
       "pe                  int64\n",
       "ane                 int64\n",
       "classification      int64\n",
       "dtype: object"
      ]
     },
     "execution_count": 16,
     "metadata": {},
     "output_type": "execute_result"
    }
   ],
   "source": [
    "df.dtypes"
   ]
  },
  {
   "cell_type": "code",
   "execution_count": 17,
   "id": "c24d1b8b",
   "metadata": {},
   "outputs": [
    {
     "data": {
      "text/html": [
       "<div>\n",
       "<style scoped>\n",
       "    .dataframe tbody tr th:only-of-type {\n",
       "        vertical-align: middle;\n",
       "    }\n",
       "\n",
       "    .dataframe tbody tr th {\n",
       "        vertical-align: top;\n",
       "    }\n",
       "\n",
       "    .dataframe thead th {\n",
       "        text-align: right;\n",
       "    }\n",
       "</style>\n",
       "<table border=\"1\" class=\"dataframe\">\n",
       "  <thead>\n",
       "    <tr style=\"text-align: right;\">\n",
       "      <th></th>\n",
       "      <th>age</th>\n",
       "      <th>bp</th>\n",
       "      <th>sg</th>\n",
       "      <th>al</th>\n",
       "      <th>su</th>\n",
       "      <th>rbc</th>\n",
       "      <th>pc</th>\n",
       "      <th>pcc</th>\n",
       "      <th>ba</th>\n",
       "      <th>bgr</th>\n",
       "      <th>...</th>\n",
       "      <th>pcv</th>\n",
       "      <th>wc</th>\n",
       "      <th>rc</th>\n",
       "      <th>htn</th>\n",
       "      <th>dm</th>\n",
       "      <th>cad</th>\n",
       "      <th>appet</th>\n",
       "      <th>pe</th>\n",
       "      <th>ane</th>\n",
       "      <th>classification</th>\n",
       "    </tr>\n",
       "  </thead>\n",
       "  <tbody>\n",
       "    <tr>\n",
       "      <th>0</th>\n",
       "      <td>48.0</td>\n",
       "      <td>80.0</td>\n",
       "      <td>1.020</td>\n",
       "      <td>1.0</td>\n",
       "      <td>0.0</td>\n",
       "      <td>1.0</td>\n",
       "      <td>1.0</td>\n",
       "      <td>0.0</td>\n",
       "      <td>0.0</td>\n",
       "      <td>121.000000</td>\n",
       "      <td>...</td>\n",
       "      <td>44.0</td>\n",
       "      <td>7800.0</td>\n",
       "      <td>5.200000</td>\n",
       "      <td>1.0</td>\n",
       "      <td>1.0</td>\n",
       "      <td>0.0</td>\n",
       "      <td>1.0</td>\n",
       "      <td>0.0</td>\n",
       "      <td>0.0</td>\n",
       "      <td>1.0</td>\n",
       "    </tr>\n",
       "    <tr>\n",
       "      <th>1</th>\n",
       "      <td>7.0</td>\n",
       "      <td>50.0</td>\n",
       "      <td>1.020</td>\n",
       "      <td>4.0</td>\n",
       "      <td>0.0</td>\n",
       "      <td>1.0</td>\n",
       "      <td>1.0</td>\n",
       "      <td>0.0</td>\n",
       "      <td>0.0</td>\n",
       "      <td>148.036517</td>\n",
       "      <td>...</td>\n",
       "      <td>38.0</td>\n",
       "      <td>6000.0</td>\n",
       "      <td>4.707435</td>\n",
       "      <td>0.0</td>\n",
       "      <td>0.0</td>\n",
       "      <td>0.0</td>\n",
       "      <td>1.0</td>\n",
       "      <td>0.0</td>\n",
       "      <td>0.0</td>\n",
       "      <td>1.0</td>\n",
       "    </tr>\n",
       "    <tr>\n",
       "      <th>2</th>\n",
       "      <td>62.0</td>\n",
       "      <td>80.0</td>\n",
       "      <td>1.010</td>\n",
       "      <td>2.0</td>\n",
       "      <td>3.0</td>\n",
       "      <td>1.0</td>\n",
       "      <td>1.0</td>\n",
       "      <td>0.0</td>\n",
       "      <td>0.0</td>\n",
       "      <td>423.000000</td>\n",
       "      <td>...</td>\n",
       "      <td>31.0</td>\n",
       "      <td>7500.0</td>\n",
       "      <td>4.707435</td>\n",
       "      <td>0.0</td>\n",
       "      <td>1.0</td>\n",
       "      <td>0.0</td>\n",
       "      <td>0.0</td>\n",
       "      <td>0.0</td>\n",
       "      <td>1.0</td>\n",
       "      <td>1.0</td>\n",
       "    </tr>\n",
       "    <tr>\n",
       "      <th>3</th>\n",
       "      <td>48.0</td>\n",
       "      <td>70.0</td>\n",
       "      <td>1.005</td>\n",
       "      <td>4.0</td>\n",
       "      <td>0.0</td>\n",
       "      <td>1.0</td>\n",
       "      <td>0.0</td>\n",
       "      <td>1.0</td>\n",
       "      <td>0.0</td>\n",
       "      <td>117.000000</td>\n",
       "      <td>...</td>\n",
       "      <td>32.0</td>\n",
       "      <td>6700.0</td>\n",
       "      <td>3.900000</td>\n",
       "      <td>1.0</td>\n",
       "      <td>0.0</td>\n",
       "      <td>0.0</td>\n",
       "      <td>0.0</td>\n",
       "      <td>1.0</td>\n",
       "      <td>1.0</td>\n",
       "      <td>1.0</td>\n",
       "    </tr>\n",
       "    <tr>\n",
       "      <th>4</th>\n",
       "      <td>51.0</td>\n",
       "      <td>80.0</td>\n",
       "      <td>1.010</td>\n",
       "      <td>2.0</td>\n",
       "      <td>0.0</td>\n",
       "      <td>1.0</td>\n",
       "      <td>1.0</td>\n",
       "      <td>0.0</td>\n",
       "      <td>0.0</td>\n",
       "      <td>106.000000</td>\n",
       "      <td>...</td>\n",
       "      <td>35.0</td>\n",
       "      <td>7300.0</td>\n",
       "      <td>4.600000</td>\n",
       "      <td>0.0</td>\n",
       "      <td>0.0</td>\n",
       "      <td>0.0</td>\n",
       "      <td>1.0</td>\n",
       "      <td>0.0</td>\n",
       "      <td>0.0</td>\n",
       "      <td>1.0</td>\n",
       "    </tr>\n",
       "    <tr>\n",
       "      <th>...</th>\n",
       "      <td>...</td>\n",
       "      <td>...</td>\n",
       "      <td>...</td>\n",
       "      <td>...</td>\n",
       "      <td>...</td>\n",
       "      <td>...</td>\n",
       "      <td>...</td>\n",
       "      <td>...</td>\n",
       "      <td>...</td>\n",
       "      <td>...</td>\n",
       "      <td>...</td>\n",
       "      <td>...</td>\n",
       "      <td>...</td>\n",
       "      <td>...</td>\n",
       "      <td>...</td>\n",
       "      <td>...</td>\n",
       "      <td>...</td>\n",
       "      <td>...</td>\n",
       "      <td>...</td>\n",
       "      <td>...</td>\n",
       "      <td>...</td>\n",
       "    </tr>\n",
       "    <tr>\n",
       "      <th>394</th>\n",
       "      <td>55.0</td>\n",
       "      <td>80.0</td>\n",
       "      <td>1.020</td>\n",
       "      <td>0.0</td>\n",
       "      <td>0.0</td>\n",
       "      <td>1.0</td>\n",
       "      <td>1.0</td>\n",
       "      <td>0.0</td>\n",
       "      <td>0.0</td>\n",
       "      <td>140.000000</td>\n",
       "      <td>...</td>\n",
       "      <td>47.0</td>\n",
       "      <td>6700.0</td>\n",
       "      <td>4.900000</td>\n",
       "      <td>0.0</td>\n",
       "      <td>0.0</td>\n",
       "      <td>0.0</td>\n",
       "      <td>1.0</td>\n",
       "      <td>0.0</td>\n",
       "      <td>0.0</td>\n",
       "      <td>0.0</td>\n",
       "    </tr>\n",
       "    <tr>\n",
       "      <th>395</th>\n",
       "      <td>42.0</td>\n",
       "      <td>70.0</td>\n",
       "      <td>1.025</td>\n",
       "      <td>0.0</td>\n",
       "      <td>0.0</td>\n",
       "      <td>1.0</td>\n",
       "      <td>1.0</td>\n",
       "      <td>0.0</td>\n",
       "      <td>0.0</td>\n",
       "      <td>75.000000</td>\n",
       "      <td>...</td>\n",
       "      <td>54.0</td>\n",
       "      <td>7800.0</td>\n",
       "      <td>6.200000</td>\n",
       "      <td>0.0</td>\n",
       "      <td>0.0</td>\n",
       "      <td>0.0</td>\n",
       "      <td>1.0</td>\n",
       "      <td>0.0</td>\n",
       "      <td>0.0</td>\n",
       "      <td>0.0</td>\n",
       "    </tr>\n",
       "    <tr>\n",
       "      <th>396</th>\n",
       "      <td>12.0</td>\n",
       "      <td>80.0</td>\n",
       "      <td>1.020</td>\n",
       "      <td>0.0</td>\n",
       "      <td>0.0</td>\n",
       "      <td>1.0</td>\n",
       "      <td>1.0</td>\n",
       "      <td>0.0</td>\n",
       "      <td>0.0</td>\n",
       "      <td>100.000000</td>\n",
       "      <td>...</td>\n",
       "      <td>49.0</td>\n",
       "      <td>6600.0</td>\n",
       "      <td>5.400000</td>\n",
       "      <td>0.0</td>\n",
       "      <td>0.0</td>\n",
       "      <td>0.0</td>\n",
       "      <td>1.0</td>\n",
       "      <td>0.0</td>\n",
       "      <td>0.0</td>\n",
       "      <td>0.0</td>\n",
       "    </tr>\n",
       "    <tr>\n",
       "      <th>397</th>\n",
       "      <td>17.0</td>\n",
       "      <td>60.0</td>\n",
       "      <td>1.025</td>\n",
       "      <td>0.0</td>\n",
       "      <td>0.0</td>\n",
       "      <td>1.0</td>\n",
       "      <td>1.0</td>\n",
       "      <td>0.0</td>\n",
       "      <td>0.0</td>\n",
       "      <td>114.000000</td>\n",
       "      <td>...</td>\n",
       "      <td>51.0</td>\n",
       "      <td>7200.0</td>\n",
       "      <td>5.900000</td>\n",
       "      <td>0.0</td>\n",
       "      <td>0.0</td>\n",
       "      <td>0.0</td>\n",
       "      <td>1.0</td>\n",
       "      <td>0.0</td>\n",
       "      <td>0.0</td>\n",
       "      <td>0.0</td>\n",
       "    </tr>\n",
       "    <tr>\n",
       "      <th>398</th>\n",
       "      <td>58.0</td>\n",
       "      <td>80.0</td>\n",
       "      <td>1.025</td>\n",
       "      <td>0.0</td>\n",
       "      <td>0.0</td>\n",
       "      <td>1.0</td>\n",
       "      <td>1.0</td>\n",
       "      <td>0.0</td>\n",
       "      <td>0.0</td>\n",
       "      <td>131.000000</td>\n",
       "      <td>...</td>\n",
       "      <td>53.0</td>\n",
       "      <td>6800.0</td>\n",
       "      <td>6.100000</td>\n",
       "      <td>0.0</td>\n",
       "      <td>0.0</td>\n",
       "      <td>0.0</td>\n",
       "      <td>1.0</td>\n",
       "      <td>0.0</td>\n",
       "      <td>0.0</td>\n",
       "      <td>0.0</td>\n",
       "    </tr>\n",
       "  </tbody>\n",
       "</table>\n",
       "<p>399 rows × 25 columns</p>\n",
       "</div>"
      ],
      "text/plain": [
       "      age    bp     sg   al   su  rbc   pc  pcc   ba         bgr  ...   pcv  \\\n",
       "0    48.0  80.0  1.020  1.0  0.0  1.0  1.0  0.0  0.0  121.000000  ...  44.0   \n",
       "1     7.0  50.0  1.020  4.0  0.0  1.0  1.0  0.0  0.0  148.036517  ...  38.0   \n",
       "2    62.0  80.0  1.010  2.0  3.0  1.0  1.0  0.0  0.0  423.000000  ...  31.0   \n",
       "3    48.0  70.0  1.005  4.0  0.0  1.0  0.0  1.0  0.0  117.000000  ...  32.0   \n",
       "4    51.0  80.0  1.010  2.0  0.0  1.0  1.0  0.0  0.0  106.000000  ...  35.0   \n",
       "..    ...   ...    ...  ...  ...  ...  ...  ...  ...         ...  ...   ...   \n",
       "394  55.0  80.0  1.020  0.0  0.0  1.0  1.0  0.0  0.0  140.000000  ...  47.0   \n",
       "395  42.0  70.0  1.025  0.0  0.0  1.0  1.0  0.0  0.0   75.000000  ...  54.0   \n",
       "396  12.0  80.0  1.020  0.0  0.0  1.0  1.0  0.0  0.0  100.000000  ...  49.0   \n",
       "397  17.0  60.0  1.025  0.0  0.0  1.0  1.0  0.0  0.0  114.000000  ...  51.0   \n",
       "398  58.0  80.0  1.025  0.0  0.0  1.0  1.0  0.0  0.0  131.000000  ...  53.0   \n",
       "\n",
       "         wc        rc  htn   dm  cad  appet   pe  ane  classification  \n",
       "0    7800.0  5.200000  1.0  1.0  0.0    1.0  0.0  0.0             1.0  \n",
       "1    6000.0  4.707435  0.0  0.0  0.0    1.0  0.0  0.0             1.0  \n",
       "2    7500.0  4.707435  0.0  1.0  0.0    0.0  0.0  1.0             1.0  \n",
       "3    6700.0  3.900000  1.0  0.0  0.0    0.0  1.0  1.0             1.0  \n",
       "4    7300.0  4.600000  0.0  0.0  0.0    1.0  0.0  0.0             1.0  \n",
       "..      ...       ...  ...  ...  ...    ...  ...  ...             ...  \n",
       "394  6700.0  4.900000  0.0  0.0  0.0    1.0  0.0  0.0             0.0  \n",
       "395  7800.0  6.200000  0.0  0.0  0.0    1.0  0.0  0.0             0.0  \n",
       "396  6600.0  5.400000  0.0  0.0  0.0    1.0  0.0  0.0             0.0  \n",
       "397  7200.0  5.900000  0.0  0.0  0.0    1.0  0.0  0.0             0.0  \n",
       "398  6800.0  6.100000  0.0  0.0  0.0    1.0  0.0  0.0             0.0  \n",
       "\n",
       "[399 rows x 25 columns]"
      ]
     },
     "execution_count": 17,
     "metadata": {},
     "output_type": "execute_result"
    }
   ],
   "source": [
    "df.astype(float)"
   ]
  },
  {
   "cell_type": "code",
   "execution_count": 20,
   "id": "e16ba843",
   "metadata": {},
   "outputs": [],
   "source": [
    "#seperating input from output\n",
    "output = df['classification']\n",
    "inputt = df.drop('classification', axis = 1 )"
   ]
  },
  {
   "cell_type": "code",
   "execution_count": 21,
   "id": "0f93c214",
   "metadata": {},
   "outputs": [],
   "source": [
    "from sklearn.model_selection import train_test_split "
   ]
  },
  {
   "cell_type": "code",
   "execution_count": 22,
   "id": "650ca6ca",
   "metadata": {},
   "outputs": [],
   "source": [
    "x_train, x_test, y_train, y_test =  train_test_split(inputt,output, test_size = 0.3, random_state = 1)"
   ]
  },
  {
   "cell_type": "code",
   "execution_count": 23,
   "id": "1c0510f4",
   "metadata": {},
   "outputs": [
    {
     "data": {
      "text/plain": [
       "(279, 25)"
      ]
     },
     "execution_count": 23,
     "metadata": {},
     "output_type": "execute_result"
    }
   ],
   "source": [
    "x_train.shape"
   ]
  },
  {
   "cell_type": "code",
   "execution_count": 24,
   "id": "25daed74",
   "metadata": {},
   "outputs": [
    {
     "data": {
      "text/plain": [
       "(120, 25)"
      ]
     },
     "execution_count": 24,
     "metadata": {},
     "output_type": "execute_result"
    }
   ],
   "source": [
    "x_test.shape"
   ]
  },
  {
   "cell_type": "markdown",
   "id": "d35057c7",
   "metadata": {},
   "source": [
    "# using KNN Algorthim"
   ]
  },
  {
   "cell_type": "code",
   "execution_count": 80,
   "id": "83af5e39",
   "metadata": {},
   "outputs": [],
   "source": [
    "from sklearn.neighbors import KNeighborsClassifier "
   ]
  },
  {
   "cell_type": "code",
   "execution_count": 81,
   "id": "27b0d5b7",
   "metadata": {},
   "outputs": [
    {
     "data": {
      "text/plain": [
       "array([0, 0, 1, 0, 0, 1, 1, 0, 0, 1, 0, 1, 0, 1, 0, 1, 1, 1, 1, 0, 1, 1,\n",
       "       1, 1, 0, 1, 0, 0, 1, 0, 0, 1, 1, 0, 0, 1, 1, 1, 0, 1, 1, 1, 0, 0,\n",
       "       0, 1, 1, 1, 1, 1, 1, 0, 0, 1, 1, 1, 1, 1, 1, 0, 0, 0, 1, 0, 1, 0,\n",
       "       0, 0, 0, 1, 0, 1, 1, 0, 1, 1, 0, 1, 1, 1, 1, 1, 0, 1, 0, 1, 1, 0,\n",
       "       0, 0, 0, 1, 1, 0, 1, 1, 1, 1, 1, 0, 1, 1, 1, 0, 1, 0, 0, 1, 0, 1,\n",
       "       1, 0, 0, 0, 1, 0, 1, 1, 0, 1], dtype=int64)"
      ]
     },
     "execution_count": 81,
     "metadata": {},
     "output_type": "execute_result"
    }
   ],
   "source": [
    "#using KNN to train the model \n",
    "#training the model \n",
    "KNN_model = KNeighborsClassifier()\n",
    "KNN_model.fit(x_train, y_train)\n",
    "#testing the model \n",
    "y_predict = KNN_model.predict(x_test)\n",
    "y_predict"
   ]
  },
  {
   "cell_type": "code",
   "execution_count": 82,
   "id": "289ab590",
   "metadata": {},
   "outputs": [],
   "source": [
    "from sklearn.metrics import accuracy_score, confusion_matrix \n",
    "from sklearn.metrics import f1_score , precision_score"
   ]
  },
  {
   "cell_type": "code",
   "execution_count": 83,
   "id": "546d8ce1",
   "metadata": {},
   "outputs": [
    {
     "name": "stdout",
     "output_type": "stream",
     "text": [
      "Model Accuracy 0.9\n",
      "Model precision  0.927536231884058\n",
      "Model F1 Score 0.9142857142857144\n",
      "Confusion matrix is  \n",
      " [[44  5]\n",
      " [ 7 64]]\n"
     ]
    }
   ],
   "source": [
    "print(\"Model Accuracy\", accuracy_score(y_test,y_predict))\n",
    "print(\"Model precision \", precision_score(y_test,y_predict))\n",
    "print(\"Model F1 Score\", f1_score(y_test,y_predict))\n",
    "print(\"Confusion matrix is  \\n\" , confusion_matrix(y_test,y_predict))\n"
   ]
  },
  {
   "cell_type": "markdown",
   "id": "d163e186",
   "metadata": {},
   "source": [
    "# using XGboost Algorithm"
   ]
  },
  {
   "cell_type": "code",
   "execution_count": 25,
   "id": "79175c5c",
   "metadata": {},
   "outputs": [],
   "source": [
    "from sklearn.metrics import accuracy_score, confusion_matrix \n",
    "from sklearn.metrics import f1_score , precision_score"
   ]
  },
  {
   "cell_type": "code",
   "execution_count": 26,
   "id": "857f6665",
   "metadata": {},
   "outputs": [],
   "source": [
    "import xgboost as xgb\n",
    "from  xgboost import XGBClassifier"
   ]
  },
  {
   "cell_type": "code",
   "execution_count": 27,
   "id": "d1dc304b",
   "metadata": {},
   "outputs": [
    {
     "data": {
      "text/plain": [
       "array([1, 0, 0, 0, 0, 1, 1, 0, 1, 1, 0, 1, 0, 1, 0, 1, 1, 1, 1, 0, 1, 1,\n",
       "       1, 1, 0, 1, 0, 1, 1, 0, 0, 1, 1, 0, 1, 1, 1, 1, 0, 1, 1, 1, 0, 0,\n",
       "       0, 0, 1, 1, 1, 1, 1, 0, 1, 1, 1, 1, 1, 1, 1, 0, 0, 0, 1, 0, 0, 0,\n",
       "       0, 0, 0, 1, 0, 1, 1, 0, 1, 1, 0, 1, 1, 1, 0, 1, 0, 1, 0, 1, 1, 0,\n",
       "       0, 0, 0, 1, 1, 0, 1, 1, 0, 1, 1, 0, 1, 1, 1, 0, 1, 1, 0, 1, 0, 1,\n",
       "       1, 0, 0, 1, 1, 0, 1, 1, 0, 1])"
      ]
     },
     "execution_count": 27,
     "metadata": {},
     "output_type": "execute_result"
    }
   ],
   "source": [
    "XG_model =XGBClassifier()\n",
    "XG_model.fit(x_train,y_train)\n",
    "y_predict=XG_model.predict(x_test)\n",
    "y_predict"
   ]
  },
  {
   "cell_type": "code",
   "execution_count": 28,
   "id": "5be7bbe3",
   "metadata": {},
   "outputs": [
    {
     "name": "stdout",
     "output_type": "stream",
     "text": [
      "Model Accuracy 1.0\n",
      "Model precision  1.0\n",
      "Model F1 Score 1.0\n",
      "Confusion matrix is  \n",
      " [[49  0]\n",
      " [ 0 71]]\n"
     ]
    }
   ],
   "source": [
    "print(\"Model Accuracy\", accuracy_score(y_test,y_predict))\n",
    "print(\"Model precision \", precision_score(y_test,y_predict))\n",
    "print(\"Model F1 Score\", f1_score(y_test,y_predict))\n",
    "print(\"Confusion matrix is  \\n\" , confusion_matrix(y_test,y_predict))\n"
   ]
  },
  {
   "cell_type": "markdown",
   "id": "73cc5a45",
   "metadata": {},
   "source": [
    "# using SVM Algorithm"
   ]
  },
  {
   "cell_type": "code",
   "execution_count": 88,
   "id": "cfcc2a65",
   "metadata": {},
   "outputs": [],
   "source": [
    "from sklearn.metrics import accuracy_score, confusion_matrix \n",
    "from sklearn.metrics import f1_score , precision_score"
   ]
  },
  {
   "cell_type": "code",
   "execution_count": 89,
   "id": "590bba80",
   "metadata": {},
   "outputs": [],
   "source": [
    "from sklearn import svm\n",
    "from sklearn.svm import SVC"
   ]
  },
  {
   "cell_type": "code",
   "execution_count": 90,
   "id": "b1934252",
   "metadata": {},
   "outputs": [],
   "source": [
    "SVM_model = SVC()\n",
    "SVM_model.fit(x_train, y_train)\n",
    "y_predict = SVM_model.predict(x_test)"
   ]
  },
  {
   "cell_type": "code",
   "execution_count": 91,
   "id": "a0bf8a4f",
   "metadata": {},
   "outputs": [
    {
     "name": "stdout",
     "output_type": "stream",
     "text": [
      "Model Accuracy 0.5916666666666667\n",
      "Model precision  0.5916666666666667\n",
      "Model F1 Score 0.743455497382199\n",
      "Confusion matrix is  \n",
      " [[ 0 49]\n",
      " [ 0 71]]\n"
     ]
    }
   ],
   "source": [
    "print(\"Model Accuracy\", accuracy_score(y_test,y_predict))\n",
    "print(\"Model precision \", precision_score(y_test,y_predict))\n",
    "print(\"Model F1 Score\", f1_score(y_test,y_predict))\n",
    "print(\"Confusion matrix is  \\n\" , confusion_matrix(y_test,y_predict))\n"
   ]
  },
  {
   "cell_type": "markdown",
   "id": "d47a6045",
   "metadata": {},
   "source": [
    "# using Random Forest Algorithm"
   ]
  },
  {
   "cell_type": "code",
   "execution_count": 92,
   "id": "215f1873",
   "metadata": {},
   "outputs": [],
   "source": [
    "from sklearn.metrics import accuracy_score, confusion_matrix \n",
    "from sklearn.metrics import f1_score , precision_score"
   ]
  },
  {
   "cell_type": "code",
   "execution_count": 93,
   "id": "7d01253d",
   "metadata": {},
   "outputs": [],
   "source": [
    "from sklearn.ensemble import RandomForestClassifier"
   ]
  },
  {
   "cell_type": "code",
   "execution_count": 94,
   "id": "f1a10e6b",
   "metadata": {},
   "outputs": [
    {
     "data": {
      "text/plain": [
       "array([1, 0, 0, 0, 0, 1, 1, 0, 1, 1, 0, 1, 0, 1, 0, 1, 1, 1, 1, 0, 1, 1,\n",
       "       1, 1, 0, 1, 0, 1, 1, 0, 0, 1, 1, 0, 1, 1, 1, 1, 0, 1, 1, 1, 0, 0,\n",
       "       0, 0, 1, 1, 1, 1, 1, 0, 1, 1, 1, 1, 1, 1, 1, 0, 0, 0, 1, 0, 0, 0,\n",
       "       0, 0, 0, 1, 0, 1, 1, 0, 1, 1, 0, 1, 1, 1, 0, 1, 0, 1, 0, 1, 1, 0,\n",
       "       0, 0, 0, 1, 1, 0, 1, 1, 0, 1, 1, 0, 1, 1, 1, 0, 1, 1, 0, 1, 0, 1,\n",
       "       1, 0, 0, 1, 1, 0, 1, 1, 0, 1], dtype=int64)"
      ]
     },
     "execution_count": 94,
     "metadata": {},
     "output_type": "execute_result"
    }
   ],
   "source": [
    "RF_model = RandomForestClassifier(n_estimators=1000,criterion=\"entropy\",random_state=1)\n",
    "RF_model.fit(x_train,y_train)\n",
    "y_predict = RF_model.predict(x_test)\n",
    "y_predict"
   ]
  },
  {
   "cell_type": "code",
   "execution_count": 95,
   "id": "c5c40eda",
   "metadata": {},
   "outputs": [
    {
     "name": "stdout",
     "output_type": "stream",
     "text": [
      "Model Accuracy 1.0\n",
      "Model precision  1.0\n",
      "Model F1 Score 1.0\n",
      "Confusion matrix is  \n",
      " [[49  0]\n",
      " [ 0 71]]\n"
     ]
    }
   ],
   "source": [
    "print(\"Model Accuracy\", accuracy_score(y_test,y_predict))\n",
    "print(\"Model precision \", precision_score(y_test,y_predict))\n",
    "print(\"Model F1 Score\", f1_score(y_test,y_predict))\n",
    "print(\"Confusion matrix is  \\n\" , confusion_matrix(y_test,y_predict))\n"
   ]
  },
  {
   "cell_type": "markdown",
   "id": "8883a465",
   "metadata": {},
   "source": [
    "# using Decision Tree Alogrithm"
   ]
  },
  {
   "cell_type": "code",
   "execution_count": 96,
   "id": "dd2babaa",
   "metadata": {},
   "outputs": [],
   "source": [
    "from sklearn.metrics import accuracy_score, confusion_matrix \n",
    "from sklearn.metrics import f1_score , precision_score"
   ]
  },
  {
   "cell_type": "code",
   "execution_count": 97,
   "id": "091b34be",
   "metadata": {},
   "outputs": [],
   "source": [
    "from sklearn.tree import DecisionTreeClassifier"
   ]
  },
  {
   "cell_type": "code",
   "execution_count": 98,
   "id": "08540e0f",
   "metadata": {},
   "outputs": [
    {
     "data": {
      "text/plain": [
       "array([1, 0, 0, 0, 0, 1, 1, 0, 1, 1, 0, 1, 0, 1, 0, 1, 1, 1, 1, 0, 1, 1,\n",
       "       1, 1, 0, 1, 0, 1, 1, 0, 0, 1, 1, 0, 1, 1, 1, 1, 0, 1, 1, 1, 0, 0,\n",
       "       0, 0, 1, 1, 1, 1, 1, 0, 1, 1, 1, 1, 1, 1, 1, 0, 0, 0, 1, 0, 0, 0,\n",
       "       0, 0, 0, 1, 0, 1, 1, 0, 1, 1, 0, 1, 1, 1, 0, 1, 0, 1, 0, 1, 1, 0,\n",
       "       0, 0, 0, 1, 1, 0, 1, 1, 0, 1, 1, 0, 1, 1, 1, 0, 1, 1, 0, 1, 0, 1,\n",
       "       1, 0, 0, 1, 1, 0, 1, 1, 0, 1], dtype=int64)"
      ]
     },
     "execution_count": 98,
     "metadata": {},
     "output_type": "execute_result"
    }
   ],
   "source": [
    "DT_model=DecisionTreeClassifier(criterion='gini' , splitter='best' , max_depth=None)\n",
    "DT_model.fit(x_train,y_train)\n",
    "y_predict=DT_model.predict(x_test)\n",
    "y_predict"
   ]
  },
  {
   "cell_type": "code",
   "execution_count": 99,
   "id": "2df720bc",
   "metadata": {},
   "outputs": [
    {
     "name": "stdout",
     "output_type": "stream",
     "text": [
      "Model Accuracy 1.0\n",
      "Model precision  1.0\n",
      "Model F1 Score 1.0\n",
      "Confusion matrix is  \n",
      " [[49  0]\n",
      " [ 0 71]]\n"
     ]
    }
   ],
   "source": [
    "print(\"Model Accuracy\", accuracy_score(y_test,y_predict))\n",
    "print(\"Model precision \", precision_score(y_test,y_predict))\n",
    "print(\"Model F1 Score\", f1_score(y_test,y_predict))\n",
    "print(\"Confusion matrix is  \\n\" , confusion_matrix(y_test,y_predict))\n"
   ]
  },
  {
   "cell_type": "code",
   "execution_count": 29,
   "id": "4b7a62be",
   "metadata": {},
   "outputs": [],
   "source": [
    "import joblib as jb"
   ]
  },
  {
   "cell_type": "code",
   "execution_count": 30,
   "id": "62a328e3",
   "metadata": {},
   "outputs": [
    {
     "data": {
      "text/plain": [
       "['C:/Users/Pro/Desktop/kmodel.sav']"
      ]
     },
     "execution_count": 30,
     "metadata": {},
     "output_type": "execute_result"
    }
   ],
   "source": [
    "jb.dump(XG_model,'C:/Users/Pro/Desktop/kmodel.sav')"
   ]
  },
  {
   "cell_type": "code",
   "execution_count": 104,
   "id": "9a58904d",
   "metadata": {},
   "outputs": [
    {
     "data": {
      "text/plain": [
       "['C:/Users/Pro/Desktop/kmodel0.sav']"
      ]
     },
     "execution_count": 104,
     "metadata": {},
     "output_type": "execute_result"
    }
   ],
   "source": [
    "jb.dump(DT_model, 'C:/Users/Pro/Desktop/kmodel0.sav')"
   ]
  },
  {
   "cell_type": "code",
   "execution_count": null,
   "id": "837d35e3",
   "metadata": {},
   "outputs": [],
   "source": []
  }
 ],
 "metadata": {
  "kernelspec": {
   "display_name": "Python 3 (ipykernel)",
   "language": "python",
   "name": "python3"
  },
  "language_info": {
   "codemirror_mode": {
    "name": "ipython",
    "version": 3
   },
   "file_extension": ".py",
   "mimetype": "text/x-python",
   "name": "python",
   "nbconvert_exporter": "python",
   "pygments_lexer": "ipython3",
   "version": "3.9.12"
  }
 },
 "nbformat": 4,
 "nbformat_minor": 5
}
